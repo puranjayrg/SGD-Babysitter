{
 "cells": [
  {
   "cell_type": "markdown",
   "metadata": {},
   "source": [
    "\n",
    "<a id='generic-programming'></a>\n",
    "<a href=\"#\"><img src=\"/_static/img/jupyter-notebook-download-blue.svg\" id=\"notebook_download_badge\"></a>\n",
    "\n",
    "<script>\n",
    "var path = window.location.pathname;\n",
    "var pageName = path.split(\"/\").pop().split(\".\")[0];\n",
    "var downloadLink = [\"/\", \"_downloads/ipynb/jl/\", pageName, \".ipynb\"].join(\"\");\n",
    "document.getElementById('notebook_download_badge').parentElement.setAttribute('href', downloadLink);\n",
    "</script>\n",
    "\n",
    "<a href=\"/status.html\"><img src=\"https://img.shields.io/badge/Execution%20test-not%20available-lightgrey.svg\" id=\"executability_status_badge\"></a>\n",
    "\n",
    "<div class=\"how-to\">\n",
    "        <a href=\"#\" class=\"toggle\"><span class=\"icon icon-angle-double-down\"></span>How to read this lecture...</a>\n",
    "        <div class=\"how-to-content\">\n",
    "                <p>Code should execute sequentially if run in a Jupyter notebook</p>\n",
    "                <ul>\n",
    "                        <li>See the <a href=\"/jl/getting_started.html\">set up page</a> to install Jupyter, Julia (1.0+) and all necessary libraries</li>\n",
    "                        <li>Please direct feedback to <a href=\"mailto:contact@quantecon.org\">contact@quantecon.org</a> or the <a href=\"http://discourse.quantecon.org/\">discourse forum</a></li>\n",
    "                        <li>For some notebooks, enable content with \"Trust\" on the command tab of Jupyter lab</li>\n",
    "                        <li>If using QuantEcon lectures for the first time on a computer, execute <tt>] add InstantiateFromURL</tt> inside of a notebook or the REPL</li>\n",
    "                </ul>\n",
    "        </div>\n",
    "</div>"
   ]
  },
  {
   "cell_type": "markdown",
   "metadata": {},
   "source": [
    "# Generic Programming"
   ]
  },
  {
   "cell_type": "markdown",
   "metadata": {},
   "source": [
    "## Contents\n",
    "\n",
    "- [Generic Programming](#Generic-Programming)  \n",
    "  - [Overview](#Overview)  \n",
    "  - [Exploring Type Trees](#Exploring-Type-Trees)  \n",
    "  - [Distributions](#Distributions)  \n",
    "  - [Number, Real, and Algebraic Structures](#Number,-Real,-and-Algebraic-Structures)  \n",
    "  - [Functions, and Function-Like Types](#Functions,-and-Function-Like-Types)  \n",
    "  - [Limitations of Dispatching on Abstract Types](#Limitations-of-Dispatching-on-Abstract-Types)  \n",
    "  - [Understanding Multiple Dispatch in Julia](#Understanding-Multiple-Dispatch-in-Julia)  "
   ]
  },
  {
   "cell_type": "markdown",
   "metadata": {},
   "source": [
    "> I find OOP methodologically wrong. It starts with classes. It is as if mathematicians would start with axioms. You do not start with axioms - you start with proofs. Only when you have found a bunch of related proofs, can you come up with axioms. You end with axioms. The same thing is true in programming: you have to start with interesting algorithms. Only when you understand them well, can you come up with an interface that will let them work. - Alexander Stepanov"
   ]
  },
  {
   "cell_type": "markdown",
   "metadata": {},
   "source": [
    "## Overview\n",
    "\n",
    "In this lecture we delve more deeply into the structure of Julia, and in particular into\n",
    "\n",
    "- abstract and concrete types  \n",
    "- the type tree  \n",
    "- designing and using generic interfaces  \n",
    "- the role of generic interfaces in Julia performance  \n",
    "\n",
    "\n",
    "Understanding them will help you\n",
    "\n",
    "- Design code that matches the “white-board” mathematics  \n",
    "- Create code that can use (and be used) by a variety of other packages  \n",
    "- Write “well organized” Julia code that’s easy to read, modify, maintain and debug  \n",
    "- Improve the speed at which your code runs  \n",
    "\n",
    "\n",
    "(Special thank you to Jeffrey Sarnoff)"
   ]
  },
  {
   "cell_type": "markdown",
   "metadata": {},
   "source": [
    "### Generic Programming is an Attitude\n",
    "\n",
    "From `Mathematics to Generic Programming` [[SR14]](zreferences.html#stepanov-mathematics-2014)\n",
    "\n",
    "> Generic programming is an approach to programming that focuses on designing algorithms and data structures so that they work in the most general setting without loss of efficiency… Generic programming is more of an *attitude* toward programming than a particular set of tools.\n",
    "\n",
    "\n",
    "In that sense, it is important to think of generic programming not as a set of rules to apply about decomposing taxonomies of abstractions, but rather as an interactive approach in attempting to uncover generality without any performance overhead\n",
    "\n",
    "As we will see, the core approach is to treat data-structures and algorithms as loosely coupled, and is in direct contrast to the “isa” approach of object-oriented programming\n",
    "\n",
    "This lecture has the dual role of giving an introduction into the design of generic algorithms, and describing how Julia helps make that possible"
   ]
  },
  {
   "cell_type": "markdown",
   "metadata": {},
   "source": [
    "### Setup"
   ]
  },
  {
   "cell_type": "code",
   "execution_count": 1,
   "metadata": {},
   "outputs": [
    {
     "name": "stderr",
     "output_type": "stream",
     "text": [
      "┌ Warning: On Windows, creating file symlinks requires Administrator privileges\n",
      "└ @ Base.Filesystem file.jl:789\n"
     ]
    }
   ],
   "source": [
    "using InstantiateFromURL\n",
    "\n",
    "# activate the QuantEcon environment\n",
    "activate_github(\"QuantEcon/QuantEconLecturePackages\", tag = \"v0.9.0\") \n",
    "\n",
    "using LinearAlgebra, Statistics, Compat # load common packages"
   ]
  },
  {
   "cell_type": "markdown",
   "metadata": {},
   "source": [
    "## Exploring Type Trees\n",
    "\n",
    "The connection between data-structures and the algorithms which operate on them is handled the through the type system\n",
    "\n",
    "Concrete types (i.e. `Float64` or `Array{Float64, 2}`) are the data-structures we have in mind for working with algorithms, and the abstract types we have seen before (e.g. `Number` and `AbstractArray`) provide the mapping a particular set of data structures to a particular algorithm"
   ]
  },
  {
   "cell_type": "code",
   "execution_count": 2,
   "metadata": {},
   "outputs": [
    {
     "name": "stdout",
     "output_type": "stream",
     "text": [
      "(x, y, z) = (1, Normal{Float64}(μ=0.0, σ=1.0), \"foo\")\n"
     ]
    },
    {
     "name": "stderr",
     "output_type": "stream",
     "text": [
      "WARNING: using Distributions.mode in module Main conflicts with an existing identifier.\n"
     ]
    },
    {
     "name": "stdout",
     "output_type": "stream",
     "text": [
      "(typeof(x), typeof(y), typeof(z)) = (Int64, Normal{Float64}, String)\n",
      "supertype(typeof(x)) = Signed\n",
      "typeof(x) |> supertype = Signed\n",
      "supertype(typeof(y)) = Distribution{Univariate,Continuous}\n",
      "typeof(z) |> supertype = AbstractString\n",
      "typeof(x) <: Any = true\n"
     ]
    }
   ],
   "source": [
    "using Distributions\n",
    "x = 1\n",
    "y = Normal()\n",
    "z = \"foo\"\n",
    "@show x, y, z\n",
    "@show typeof(x), typeof(y), typeof(z)\n",
    "@show supertype(typeof(x))\n",
    "@show typeof(x) |> supertype  # pipe operator(|>), just applies a function to another function\n",
    "@show supertype(typeof(y))\n",
    "@show typeof(z) |> supertype\n",
    "@show typeof(x) <: Any;"
   ]
  },
  {
   "cell_type": "markdown",
   "metadata": {},
   "source": [
    "Beyond the `typeof` and `supertype`, a few other useful tools for analyzing the tree of types were discussed in [this lecture](introduction_to_types)"
   ]
  },
  {
   "cell_type": "code",
   "execution_count": 3,
   "metadata": {},
   "outputs": [
    {
     "name": "stdout",
     "output_type": "stream",
     "text": [
      "Int64 <: Signed <: Integer <: Real <: Number <: Any"
     ]
    }
   ],
   "source": [
    "using Base: show_supertypes # import the function from the `Base` package\n",
    "\n",
    "show_supertypes(Int64)"
   ]
  },
  {
   "cell_type": "code",
   "execution_count": 4,
   "metadata": {},
   "outputs": [
    {
     "data": {
      "text/plain": [
       "3-element Array{Any,1}:\n",
       " Bool    \n",
       " Signed  \n",
       " Unsigned"
      ]
     },
     "execution_count": 4,
     "metadata": {},
     "output_type": "execute_result"
    }
   ],
   "source": [
    "subtypes(Integer)"
   ]
  },
  {
   "cell_type": "markdown",
   "metadata": {},
   "source": [
    "Using the `subtypes` function, we can traverse the type tree below a particular type"
   ]
  },
  {
   "cell_type": "code",
   "execution_count": 5,
   "metadata": {},
   "outputs": [
    {
     "data": {
      "text/plain": [
       "subtypetree (generic function with 3 methods)"
      ]
     },
     "execution_count": 5,
     "metadata": {},
     "output_type": "execute_result"
    }
   ],
   "source": [
    "#  from https://github.com/JuliaLang/julia/issues/24741\n",
    "function subtypetree(t, level=1, indent=4)\n",
    "        if level == 1\n",
    "            println(t)\n",
    "        end\n",
    "        for s in subtypes(t)\n",
    "            println(join(fill(\" \", level * indent)) * string(s))  # print type\n",
    "            subtypetree(s, level+1, indent)  # recursively print the next types, indenting\n",
    "        end\n",
    "    end"
   ]
  },
  {
   "cell_type": "markdown",
   "metadata": {},
   "source": [
    "Using this function, we can see all of the current types in memory below `Number` in the tree"
   ]
  },
  {
   "cell_type": "code",
   "execution_count": 6,
   "metadata": {},
   "outputs": [
    {
     "name": "stdout",
     "output_type": "stream",
     "text": [
      "Number\n",
      "    Complex\n",
      "    Real\n",
      "        AbstractFloat\n",
      "            BigFloat\n",
      "            Float16\n",
      "            Float32\n",
      "            Float64\n",
      "        AbstractIrrational\n",
      "            Irrational\n",
      "        Integer\n",
      "            Bool\n",
      "            Signed\n",
      "                BigInt\n",
      "                Int128\n",
      "                Int16\n",
      "                Int32\n",
      "                Int64\n",
      "                Int8\n",
      "            Unsigned\n",
      "                UInt128\n",
      "                UInt16\n",
      "                UInt32\n",
      "                UInt64\n",
      "                UInt8\n",
      "        Rational\n"
     ]
    }
   ],
   "source": [
    "subtypetree(Number) # warning: do not use this function on ``Any``!"
   ]
  },
  {
   "cell_type": "markdown",
   "metadata": {},
   "source": [
    "For the most part, all of the “leaves” will be concrete types"
   ]
  },
  {
   "cell_type": "markdown",
   "metadata": {},
   "source": [
    "### Any\n",
    "\n",
    "At the root of all types is `Any`\n",
    "\n",
    "There are a number of operations which are available for `Any`, including a `show` function and `typeof`\n",
    "\n",
    "There are a few functions that work in the “most generalized” context: usable with anything that you can construct or access from other packages\n",
    "\n",
    "We have already called `typeof` and `supertype` on a number of types, and this will work by default for custom types"
   ]
  },
  {
   "cell_type": "code",
   "execution_count": 7,
   "metadata": {},
   "outputs": [
    {
     "name": "stdout",
     "output_type": "stream",
     "text": [
      "myval = MyType(2.0)\n",
      "typeof(myval) = MyType\n",
      "supertype(typeof(myval)) = Any\n",
      "typeof(myval) <: Any = true\n"
     ]
    }
   ],
   "source": [
    "# custom type\n",
    "struct MyType\n",
    "    a::Float64\n",
    "end\n",
    "\n",
    "myval = MyType(2.0)\n",
    "@show myval\n",
    "@show typeof(myval)\n",
    "@show supertype(typeof(myval))\n",
    "@show typeof(myval) <: Any;"
   ]
  },
  {
   "cell_type": "markdown",
   "metadata": {},
   "source": [
    "Here we see an important example of generic programming: every type `<: Any` supports the `@show` macro, which in turn, relies on the `show` function\n",
    "\n",
    "What does the `@show` macro do?  It (1) prints the expression as a string; (2) evaluates the expression; and (3) calls the `show` function on the returned types\n",
    "\n",
    "To see this with built-in types"
   ]
  },
  {
   "cell_type": "code",
   "execution_count": 8,
   "metadata": {},
   "outputs": [
    {
     "name": "stdout",
     "output_type": "stream",
     "text": [
      "[1, 2]"
     ]
    }
   ],
   "source": [
    "x = [1, 2]\n",
    "show(x)"
   ]
  },
  {
   "cell_type": "markdown",
   "metadata": {},
   "source": [
    "The `Any` type is useful, because it provides a fall-back implementation for a variety of functions, such as the `show`"
   ]
  },
  {
   "cell_type": "code",
   "execution_count": 9,
   "metadata": {},
   "outputs": [
    {
     "name": "stdout",
     "output_type": "stream",
     "text": [
      "MyType(2.0)"
     ]
    }
   ],
   "source": [
    "myval = MyType(2.0)\n",
    "show(myval)"
   ]
  },
  {
   "cell_type": "markdown",
   "metadata": {},
   "source": [
    "The default implementation used by Julia would look something like"
   ]
  },
  {
   "cell_type": "markdown",
   "metadata": {},
   "source": [
    "```julia\n",
    "function show(io::IO, x::MyType)\n",
    "    str = string(x)\n",
    "    print(io, str)\n",
    "end\n",
    "```\n"
   ]
  },
  {
   "cell_type": "markdown",
   "metadata": {},
   "source": [
    "To implement a “best practice” and provide a specialized implementation of the `show` function for our type rather than the fllback"
   ]
  },
  {
   "cell_type": "code",
   "execution_count": 10,
   "metadata": {},
   "outputs": [
    {
     "name": "stdout",
     "output_type": "stream",
     "text": [
      "(MyType.a = 2.0)"
     ]
    }
   ],
   "source": [
    "import Base.show  # to extend an existing method\n",
    "\n",
    "function show(io::IO, x::MyType)\n",
    "    str = \"(MyType.a = $(x.a))\"\n",
    "    print(io, str)\n",
    "end\n",
    "show(myval)  # it creates an IO value first and then calls the above show"
   ]
  },
  {
   "cell_type": "markdown",
   "metadata": {},
   "source": [
    "At that point, the `@show` macro works by calling the `show` function"
   ]
  },
  {
   "cell_type": "code",
   "execution_count": 11,
   "metadata": {},
   "outputs": [
    {
     "name": "stdout",
     "output_type": "stream",
     "text": [
      "myval = (MyType.a = 2.0)\n"
     ]
    }
   ],
   "source": [
    "@show myval;"
   ]
  },
  {
   "cell_type": "markdown",
   "metadata": {},
   "source": [
    "### Unlearning Object Oriented (OO) Programming (Advanced)\n",
    "\n",
    "See [Types](https://docs.julialang.org/en/v1/manual/types/#man-types-1) for more on OO vs. generic types\n",
    "\n",
    "If you have never used programming languages such as C++, Java, Python, etc., then the type hierarchies above may seem unfamiliar and abstract–but there is no need to read this section\n",
    "\n",
    "Otherwise, if you have used object-oriented programming (OOP) in those languages, then some of the concepts in these lecture notes will appear familiar\n",
    "\n",
    "**Don’t be fooled!**\n",
    "\n",
    "The superficial similarity can lead to misuse: types are *not* just classes with poor encapsulation, and methods are *not* simply the equivalent to member functions with the order of arguments swapped\n",
    "\n",
    "In particular, previous OO knowledge often leads people to write Julia code such as"
   ]
  },
  {
   "cell_type": "code",
   "execution_count": 12,
   "metadata": {},
   "outputs": [
    {
     "name": "stdout",
     "output_type": "stream",
     "text": [
      "m.algorithmcalculation = 7.199999999999999\n"
     ]
    }
   ],
   "source": [
    "# BAD! Replicating an OO design in Julia\n",
    "mutable struct MyModel\n",
    "    a::Float64\n",
    "    b::Float64\n",
    "    algorithmcalculation::Float64\n",
    "\n",
    "    MyModel(a, b) = new(a, b, 0.0) # an inner constructor\n",
    "end\n",
    "\n",
    "function myalgorithm!(m::MyModel, x)\n",
    "    m.algorithmcalculation = m.a + m.b + x # some algorithm\n",
    "end\n",
    "\n",
    "function set_a!(m::MyModel, a)\n",
    "    m.a = a\n",
    "end\n",
    "\n",
    "m = MyModel(2.0, 3.0)\n",
    "x = 0.1\n",
    "set_a!(m, 4.1)\n",
    "myalgorithm!(m, x)\n",
    "@show m.algorithmcalculation;"
   ]
  },
  {
   "cell_type": "markdown",
   "metadata": {},
   "source": [
    "You may think to yourself that the above code is similar to OO, except that you\n",
    "* reverse the first argument, i.e. `myalgorithm!(m, x)` instead of the object-oriented `m.myalgorithm!(x)`\n",
    "* cannot control encapsulation of the fields `a, b`, but you can add getter/setters like `set_a`\n",
    "* do not have concrete inheritance\n",
    "\n",
    "While this sort of programming is possible, it is (verbosely) missing the point of Julia and the power of generic programming\n",
    "\n",
    "It may be helpful to review the traditional pillars of OOP\n",
    "* *`Abstraction <https://en.wikipedia.org/wiki/Abstraction_(computer_science)#Abstraction_in_object_oriented_programming>`_:* In OO one develops a taxonomy of hierarchical “is-a” relationships as “classes”, where the key abstraction involves describing interactions between the self-contained “classes”\n",
    "* *`Encapsulation <https://en.wikipedia.org/wiki/Encapsulation_(computer_programming)>`_:* Most OO code has fully mutable classes, where access to the internals is tightly controlled since the class manages its own state\n",
    "* *`Inheritance <https://en.wikipedia.org/wiki/Inheritance_(object-oriented_programming)>`_* Code reuse in OO is achieved through adding a new class to the tree and inheriting some of the behavior of the parent class.\n",
    "* *`Polymorphism <https://en.wikipedia.org/wiki/Polymorphism_(computer_science)>`_:*  The abstract “is-a” relationships between types in a taxonomy provide a way to have the same function change its behavior given the particular type\n",
    "\n",
    "When programming in Julia\n",
    "* There will be no encapsulation or inheritance, most custom types you create will be immutable, and polymorphism will be fundamentally different\n",
    "* Abstraction is primarily achieved through keeping the data and algorithms that operate on them as orthogonal as possible–in contrast to OOP\n",
    "* The supertypes in Julia are simply used for selecting which specialized algorithm to use (i.e. part of generic polymorphism) and have nothing to do with OO inheritance\n",
    "* The looseness that accompanies keeping algorithms and data-structures as orthogonal as possible makes it easier to discover commonality in the design"
   ]
  },
  {
   "cell_type": "markdown",
   "metadata": {},
   "source": [
    "#### Iterative Design of Abstractions\n",
    "\n",
    "As its essence, the design of generic software is that you will start with creating algorithms which are largely orthogonal to concrete types, and in the process you will discover commonality which leads to abstract types with informally defined functions operating on them\n",
    "\n",
    "This design is in direct contrast to object-oriented design and analysis ([OOAD](https://en.wikipedia.org/wiki/Object-oriented_analysis_and_design)), where you specify a taxonomies of types, add operations to those types, and then move down to various levels of specialization (where algorithms are embedded at points within the taxonomy, and potentially specialized with inheritance)\n",
    "\n",
    "In the examples that follow, we will show for exposition the hierarchy of types and the algorithms operating on them, but the reality is that the algorithms are often designed first, and the abstact types came later\n",
    ".. However,  we apologize in the example we confuse things somewhat by jumping to the axioms first for expositoin"
   ]
  },
  {
   "cell_type": "markdown",
   "metadata": {},
   "source": [
    "## Distributions\n",
    "\n",
    "First, lets consider working with “distributions”\n",
    "\n",
    "If we consider mathematical “distributions” that we will use in our algorithms, they may include (1) drawing random numbers for Monte-carlo methods; (2) using the pdf or cdf in various calculations\n",
    "\n",
    "In that sense, some code may be useful in distributions where a `pdf` is not necessarily defined or meaningful\n",
    "\n",
    "The process of using concrete distributions in these sorts of applications led to the creation of the Distributions.jl package\n",
    "\n",
    "Lets examine the tree of types for a Normal distribution"
   ]
  },
  {
   "cell_type": "code",
   "execution_count": 13,
   "metadata": {},
   "outputs": [
    {
     "name": "stdout",
     "output_type": "stream",
     "text": [
      "d1 = Normal{Float64}(μ=1.0, σ=2.0)\n",
      "Normal{Float64} <: Distribution{Univariate,Continuous} <: Sampleable{Univariate,Continuous} <: Any"
     ]
    }
   ],
   "source": [
    "using Distributions\n",
    "d1 = Normal(1.0, 2.0) # an example type to explore\n",
    "@show d1\n",
    "show_supertypes(typeof(y))"
   ]
  },
  {
   "cell_type": "markdown",
   "metadata": {},
   "source": [
    "The `Sampleable{Univariate,Continuous}` type has a limited number of functions, chiefly the ability to draw a random number"
   ]
  },
  {
   "cell_type": "code",
   "execution_count": 14,
   "metadata": {},
   "outputs": [
    {
     "name": "stdout",
     "output_type": "stream",
     "text": [
      "rand(d1) = 0.988779198199741\n"
     ]
    }
   ],
   "source": [
    "@show rand(d1);"
   ]
  },
  {
   "cell_type": "markdown",
   "metadata": {},
   "source": [
    "The purpose of that abstract type is to provide an interface for drawing from a variety of distributions, some of which may not have a well-defined predefined pdfs\n",
    "\n",
    "If you were writing a function to simulate a stochastic process with an arbitrary iid shocks, where you did not need to assume an existing of a `pdf` etc., this is a natural candidate\n",
    "\n",
    "For example, to simulate $ x_{t+1} = a x_t + b \\epsilon_{t+1} $ where $ \\epsilon \\sim D $ for some $ D $ which allows drawing random values"
   ]
  },
  {
   "cell_type": "code",
   "execution_count": 15,
   "metadata": {},
   "outputs": [
    {
     "name": "stdout",
     "output_type": "stream",
     "text": [
      "simulateprocess(0.0, d=Normal(0.2, 2.0)) = [0.0, 0.588168, 1.43876, 5.0301, 5.85238, 6.85352]\n"
     ]
    }
   ],
   "source": [
    "function simulateprocess(x₀; a = 1.0, b = 1.0, N = 5, d::Sampleable{Univariate,Continuous})\n",
    "    x = zeros(typeof(x₀), N+1) # preallocate vector, careful on the type\n",
    "    x[1] = x₀\n",
    "    for t in 2:N+1\n",
    "        x[t] = a * x[t-1] + b * rand(d) # draw\n",
    "    end\n",
    "    return x\n",
    "end\n",
    "@show simulateprocess(0.0, d=Normal(0.2, 2.0));"
   ]
  },
  {
   "cell_type": "markdown",
   "metadata": {},
   "source": [
    "The `Sampleable{Univariate,Continuous}` and, especially, the `Sampleable{Multivariate,Continuous}` abstract types are useful generic interfaces for monte-carlo and Bayesian methods, in particular, where you can often draw from a distribution, but can do little else\n",
    "\n",
    "Moving down the tree, the `Distributions{Univariate, Continuous}` abstract type has certain functions we would expect to operate with it\n",
    "\n",
    "These match the mathematics, such as `pdf, cdf, quantile, support, minimum, maximum` and a few others"
   ]
  },
  {
   "cell_type": "code",
   "execution_count": 16,
   "metadata": {},
   "outputs": [
    {
     "name": "stdout",
     "output_type": "stream",
     "text": [
      "d1 = Normal{Float64}(μ=1.0, σ=2.0)\n",
      "d2 = Exponential{Float64}(θ=0.1)\n",
      "supertype(typeof(d1)) = Distribution{Univariate,Continuous}\n",
      "supertype(typeof(d2)) = Distribution{Univariate,Continuous}\n",
      "pdf(d1, 0.1) = 0.18026348123082397\n",
      "pdf(d2, 0.1) = 3.6787944117144233\n",
      "cdf(d1, 0.1) = 0.32635522028792\n",
      "cdf(d2, 0.1) = 0.6321205588285577\n",
      "support(d1) = RealInterval(-Inf, Inf)\n",
      "support(d2) = RealInterval(0.0, Inf)\n",
      "minimum(d1) = -Inf\n",
      "minimum(d2) = 0.0\n",
      "maximum(d1) = Inf\n",
      "maximum(d2) = Inf\n"
     ]
    }
   ],
   "source": [
    "d1 = Normal(1.0, 2.0)\n",
    "d2 = Exponential(0.1)\n",
    "@show d1\n",
    "@show d2\n",
    "@show supertype(typeof(d1))\n",
    "@show supertype(typeof(d2))\n",
    "\n",
    "@show pdf(d1, 0.1)\n",
    "@show pdf(d2, 0.1)\n",
    "@show cdf(d1, 0.1)\n",
    "@show cdf(d2, 0.1)\n",
    "@show support(d1)\n",
    "@show support(d2)\n",
    "@show minimum(d1)\n",
    "@show minimum(d2)\n",
    "@show maximum(d1)\n",
    "@show maximum(d2);"
   ]
  },
  {
   "cell_type": "markdown",
   "metadata": {},
   "source": [
    "You could create your own `Distributions{Univariate, Continuous}` type, if you implemented all of those functions, as is described in [the documentation](https://juliastats.github.io/Distributions.jl/latest/extends.html)\n",
    "\n",
    "If you fulfill all of the conditions of a particular interface, you (or anyone else) could use code written for the abstract `Distributions{Univariate, Continuous}` type without any modifications\n",
    "\n",
    "As an example, consider the [StatPlots](https://github.com/JuliaPlots/StatPlots.jl) package"
   ]
  },
  {
   "cell_type": "code",
   "execution_count": 17,
   "metadata": {},
   "outputs": [
    {
     "name": "stderr",
     "output_type": "stream",
     "text": [
      "┌ Info: Precompiling StatPlots [60ddc479-9b66-56df-82fc-76a74619b69c]\n",
      "└ @ Base loading.jl:1192\n",
      "┌ Info: Recompiling stale cache file C:\\Users\\jlperla\\.julia\\compiled\\v1.0\\KernelDensity\\4QyGx.ji for KernelDensity [5ab0869b-81aa-558d-bb23-cbf5423bbe9b]\n",
      "└ @ Base loading.jl:1190\n"
     ]
    },
    {
     "data": {
      "image/svg+xml": [
       "<?xml version=\"1.0\" encoding=\"utf-8\"?>\n",
       "<svg xmlns=\"http://www.w3.org/2000/svg\" xmlns:xlink=\"http://www.w3.org/1999/xlink\" width=\"600\" height=\"400\" viewBox=\"0 0 2400 1600\">\n",
       "<defs>\n",
       "  <clipPath id=\"clip1300\">\n",
       "    <rect x=\"0\" y=\"0\" width=\"2000\" height=\"2000\"/>\n",
       "  </clipPath>\n",
       "</defs>\n",
       "<defs>\n",
       "  <clipPath id=\"clip1301\">\n",
       "    <rect x=\"0\" y=\"0\" width=\"2400\" height=\"1600\"/>\n",
       "  </clipPath>\n",
       "</defs>\n",
       "<polygon clip-path=\"url(#clip1301)\" points=\"\n",
       "0,1600 2400,1600 2400,0 0,0 \n",
       "  \" fill=\"#ffffff\" fill-opacity=\"1\"/>\n",
       "<defs>\n",
       "  <clipPath id=\"clip1302\">\n",
       "    <rect x=\"480\" y=\"0\" width=\"1681\" height=\"1600\"/>\n",
       "  </clipPath>\n",
       "</defs>\n",
       "<polygon clip-path=\"url(#clip1301)\" points=\"\n",
       "161.394,1503.47 2321.26,1503.47 2321.26,47.2441 161.394,47.2441 \n",
       "  \" fill=\"#ffffff\" fill-opacity=\"1\"/>\n",
       "<defs>\n",
       "  <clipPath id=\"clip1303\">\n",
       "    <rect x=\"161\" y=\"47\" width=\"2161\" height=\"1457\"/>\n",
       "  </clipPath>\n",
       "</defs>\n",
       "<polyline clip-path=\"url(#clip1303)\" style=\"stroke:#000000; stroke-width:2; stroke-opacity:0.1; fill:none\" points=\"\n",
       "  411.669,1503.47 411.669,47.2441 \n",
       "  \"/>\n",
       "<polyline clip-path=\"url(#clip1303)\" style=\"stroke:#000000; stroke-width:2; stroke-opacity:0.1; fill:none\" points=\"\n",
       "  688.727,1503.47 688.727,47.2441 \n",
       "  \"/>\n",
       "<polyline clip-path=\"url(#clip1303)\" style=\"stroke:#000000; stroke-width:2; stroke-opacity:0.1; fill:none\" points=\"\n",
       "  965.785,1503.47 965.785,47.2441 \n",
       "  \"/>\n",
       "<polyline clip-path=\"url(#clip1303)\" style=\"stroke:#000000; stroke-width:2; stroke-opacity:0.1; fill:none\" points=\"\n",
       "  1242.84,1503.47 1242.84,47.2441 \n",
       "  \"/>\n",
       "<polyline clip-path=\"url(#clip1303)\" style=\"stroke:#000000; stroke-width:2; stroke-opacity:0.1; fill:none\" points=\"\n",
       "  1519.9,1503.47 1519.9,47.2441 \n",
       "  \"/>\n",
       "<polyline clip-path=\"url(#clip1303)\" style=\"stroke:#000000; stroke-width:2; stroke-opacity:0.1; fill:none\" points=\"\n",
       "  1796.96,1503.47 1796.96,47.2441 \n",
       "  \"/>\n",
       "<polyline clip-path=\"url(#clip1303)\" style=\"stroke:#000000; stroke-width:2; stroke-opacity:0.1; fill:none\" points=\"\n",
       "  2074.02,1503.47 2074.02,47.2441 \n",
       "  \"/>\n",
       "<polyline clip-path=\"url(#clip1303)\" style=\"stroke:#000000; stroke-width:2; stroke-opacity:0.1; fill:none\" points=\"\n",
       "  161.394,1463.82 2321.26,1463.82 \n",
       "  \"/>\n",
       "<polyline clip-path=\"url(#clip1303)\" style=\"stroke:#000000; stroke-width:2; stroke-opacity:0.1; fill:none\" points=\"\n",
       "  161.394,1119.01 2321.26,1119.01 \n",
       "  \"/>\n",
       "<polyline clip-path=\"url(#clip1303)\" style=\"stroke:#000000; stroke-width:2; stroke-opacity:0.1; fill:none\" points=\"\n",
       "  161.394,774.201 2321.26,774.201 \n",
       "  \"/>\n",
       "<polyline clip-path=\"url(#clip1303)\" style=\"stroke:#000000; stroke-width:2; stroke-opacity:0.1; fill:none\" points=\"\n",
       "  161.394,429.39 2321.26,429.39 \n",
       "  \"/>\n",
       "<polyline clip-path=\"url(#clip1303)\" style=\"stroke:#000000; stroke-width:2; stroke-opacity:0.1; fill:none\" points=\"\n",
       "  161.394,84.5793 2321.26,84.5793 \n",
       "  \"/>\n",
       "<polyline clip-path=\"url(#clip1301)\" style=\"stroke:#000000; stroke-width:4; stroke-opacity:1; fill:none\" points=\"\n",
       "  161.394,1503.47 2321.26,1503.47 \n",
       "  \"/>\n",
       "<polyline clip-path=\"url(#clip1301)\" style=\"stroke:#000000; stroke-width:4; stroke-opacity:1; fill:none\" points=\"\n",
       "  161.394,1503.47 161.394,47.2441 \n",
       "  \"/>\n",
       "<polyline clip-path=\"url(#clip1301)\" style=\"stroke:#000000; stroke-width:4; stroke-opacity:1; fill:none\" points=\"\n",
       "  411.669,1503.47 411.669,1481.63 \n",
       "  \"/>\n",
       "<polyline clip-path=\"url(#clip1301)\" style=\"stroke:#000000; stroke-width:4; stroke-opacity:1; fill:none\" points=\"\n",
       "  688.727,1503.47 688.727,1481.63 \n",
       "  \"/>\n",
       "<polyline clip-path=\"url(#clip1301)\" style=\"stroke:#000000; stroke-width:4; stroke-opacity:1; fill:none\" points=\"\n",
       "  965.785,1503.47 965.785,1481.63 \n",
       "  \"/>\n",
       "<polyline clip-path=\"url(#clip1301)\" style=\"stroke:#000000; stroke-width:4; stroke-opacity:1; fill:none\" points=\"\n",
       "  1242.84,1503.47 1242.84,1481.63 \n",
       "  \"/>\n",
       "<polyline clip-path=\"url(#clip1301)\" style=\"stroke:#000000; stroke-width:4; stroke-opacity:1; fill:none\" points=\"\n",
       "  1519.9,1503.47 1519.9,1481.63 \n",
       "  \"/>\n",
       "<polyline clip-path=\"url(#clip1301)\" style=\"stroke:#000000; stroke-width:4; stroke-opacity:1; fill:none\" points=\"\n",
       "  1796.96,1503.47 1796.96,1481.63 \n",
       "  \"/>\n",
       "<polyline clip-path=\"url(#clip1301)\" style=\"stroke:#000000; stroke-width:4; stroke-opacity:1; fill:none\" points=\"\n",
       "  2074.02,1503.47 2074.02,1481.63 \n",
       "  \"/>\n",
       "<polyline clip-path=\"url(#clip1301)\" style=\"stroke:#000000; stroke-width:4; stroke-opacity:1; fill:none\" points=\"\n",
       "  161.394,1463.82 193.792,1463.82 \n",
       "  \"/>\n",
       "<polyline clip-path=\"url(#clip1301)\" style=\"stroke:#000000; stroke-width:4; stroke-opacity:1; fill:none\" points=\"\n",
       "  161.394,1119.01 193.792,1119.01 \n",
       "  \"/>\n",
       "<polyline clip-path=\"url(#clip1301)\" style=\"stroke:#000000; stroke-width:4; stroke-opacity:1; fill:none\" points=\"\n",
       "  161.394,774.201 193.792,774.201 \n",
       "  \"/>\n",
       "<polyline clip-path=\"url(#clip1301)\" style=\"stroke:#000000; stroke-width:4; stroke-opacity:1; fill:none\" points=\"\n",
       "  161.394,429.39 193.792,429.39 \n",
       "  \"/>\n",
       "<polyline clip-path=\"url(#clip1301)\" style=\"stroke:#000000; stroke-width:4; stroke-opacity:1; fill:none\" points=\"\n",
       "  161.394,84.5793 193.792,84.5793 \n",
       "  \"/>\n",
       "<g clip-path=\"url(#clip1301)\">\n",
       "<text style=\"fill:#000000; fill-opacity:1; font-family:Arial,Helvetica Neue,Helvetica,sans-serif; font-size:48px; text-anchor:middle;\" transform=\"rotate(0, 411.669, 1557.47)\" x=\"411.669\" y=\"1557.47\">-1</text>\n",
       "</g>\n",
       "<g clip-path=\"url(#clip1301)\">\n",
       "<text style=\"fill:#000000; fill-opacity:1; font-family:Arial,Helvetica Neue,Helvetica,sans-serif; font-size:48px; text-anchor:middle;\" transform=\"rotate(0, 688.727, 1557.47)\" x=\"688.727\" y=\"1557.47\">0</text>\n",
       "</g>\n",
       "<g clip-path=\"url(#clip1301)\">\n",
       "<text style=\"fill:#000000; fill-opacity:1; font-family:Arial,Helvetica Neue,Helvetica,sans-serif; font-size:48px; text-anchor:middle;\" transform=\"rotate(0, 965.785, 1557.47)\" x=\"965.785\" y=\"1557.47\">1</text>\n",
       "</g>\n",
       "<g clip-path=\"url(#clip1301)\">\n",
       "<text style=\"fill:#000000; fill-opacity:1; font-family:Arial,Helvetica Neue,Helvetica,sans-serif; font-size:48px; text-anchor:middle;\" transform=\"rotate(0, 1242.84, 1557.47)\" x=\"1242.84\" y=\"1557.47\">2</text>\n",
       "</g>\n",
       "<g clip-path=\"url(#clip1301)\">\n",
       "<text style=\"fill:#000000; fill-opacity:1; font-family:Arial,Helvetica Neue,Helvetica,sans-serif; font-size:48px; text-anchor:middle;\" transform=\"rotate(0, 1519.9, 1557.47)\" x=\"1519.9\" y=\"1557.47\">3</text>\n",
       "</g>\n",
       "<g clip-path=\"url(#clip1301)\">\n",
       "<text style=\"fill:#000000; fill-opacity:1; font-family:Arial,Helvetica Neue,Helvetica,sans-serif; font-size:48px; text-anchor:middle;\" transform=\"rotate(0, 1796.96, 1557.47)\" x=\"1796.96\" y=\"1557.47\">4</text>\n",
       "</g>\n",
       "<g clip-path=\"url(#clip1301)\">\n",
       "<text style=\"fill:#000000; fill-opacity:1; font-family:Arial,Helvetica Neue,Helvetica,sans-serif; font-size:48px; text-anchor:middle;\" transform=\"rotate(0, 2074.02, 1557.47)\" x=\"2074.02\" y=\"1557.47\">5</text>\n",
       "</g>\n",
       "<g clip-path=\"url(#clip1301)\">\n",
       "<text style=\"fill:#000000; fill-opacity:1; font-family:Arial,Helvetica Neue,Helvetica,sans-serif; font-size:48px; text-anchor:end;\" transform=\"rotate(0, 137.394, 1481.32)\" x=\"137.394\" y=\"1481.32\">0.0</text>\n",
       "</g>\n",
       "<g clip-path=\"url(#clip1301)\">\n",
       "<text style=\"fill:#000000; fill-opacity:1; font-family:Arial,Helvetica Neue,Helvetica,sans-serif; font-size:48px; text-anchor:end;\" transform=\"rotate(0, 137.394, 1136.51)\" x=\"137.394\" y=\"1136.51\">0.1</text>\n",
       "</g>\n",
       "<g clip-path=\"url(#clip1301)\">\n",
       "<text style=\"fill:#000000; fill-opacity:1; font-family:Arial,Helvetica Neue,Helvetica,sans-serif; font-size:48px; text-anchor:end;\" transform=\"rotate(0, 137.394, 791.701)\" x=\"137.394\" y=\"791.701\">0.2</text>\n",
       "</g>\n",
       "<g clip-path=\"url(#clip1301)\">\n",
       "<text style=\"fill:#000000; fill-opacity:1; font-family:Arial,Helvetica Neue,Helvetica,sans-serif; font-size:48px; text-anchor:end;\" transform=\"rotate(0, 137.394, 446.89)\" x=\"137.394\" y=\"446.89\">0.3</text>\n",
       "</g>\n",
       "<g clip-path=\"url(#clip1301)\">\n",
       "<text style=\"fill:#000000; fill-opacity:1; font-family:Arial,Helvetica Neue,Helvetica,sans-serif; font-size:48px; text-anchor:end;\" transform=\"rotate(0, 137.394, 102.079)\" x=\"137.394\" y=\"102.079\">0.4</text>\n",
       "</g>\n",
       "<polyline clip-path=\"url(#clip1303)\" style=\"stroke:#009af9; stroke-width:4; stroke-opacity:1; fill:none\" points=\"\n",
       "  222.522,1462.26 232.585,1462.04 325.628,1458.09 418.67,1447.34 474.585,1434.39 530.5,1413.35 577.775,1386.69 625.05,1349.32 650.727,1323.64 676.404,1293.67 \n",
       "  702.082,1259.05 727.759,1219.5 751.431,1178.49 775.103,1133.01 798.775,1083.07 822.447,1028.78 873.204,898.919 923.962,754.511 982.77,578.398 1041.58,407.249 \n",
       "  1067.71,337.343 1093.84,273.447 1119.97,217.067 1146.1,169.581 1169.02,136.208 1191.93,111.258 1214.84,95.2332 1237.76,88.4582 1262.74,91.7693 1287.72,106.157 \n",
       "  1312.71,131.272 1337.69,166.514 1362.82,211.342 1387.95,264.53 1413.08,324.868 1438.21,391.034 1493.79,551.073 1549.36,717.86 1602.23,870.741 1655.11,1009.16 \n",
       "  1682.6,1073.49 1710.08,1132 1737.57,1184.5 1765.06,1231 1811.34,1296.24 1857.62,1346.52 1914.12,1390.75 1970.63,1420.16 2023.74,1437.91 2076.85,1449 \n",
       "  2161.94,1458.21 2247.04,1461.89 2260.13,1462.2 \n",
       "  \"/>\n",
       "<polygon clip-path=\"url(#clip1301)\" points=\"\n",
       "1958.43,251.724 2249.26,251.724 2249.26,130.764 1958.43,130.764 \n",
       "  \" fill=\"#ffffff\" fill-opacity=\"1\"/>\n",
       "<polyline clip-path=\"url(#clip1301)\" style=\"stroke:#000000; stroke-width:4; stroke-opacity:1; fill:none\" points=\"\n",
       "  1958.43,251.724 2249.26,251.724 2249.26,130.764 1958.43,130.764 1958.43,251.724 \n",
       "  \"/>\n",
       "<polyline clip-path=\"url(#clip1301)\" style=\"stroke:#009af9; stroke-width:4; stroke-opacity:1; fill:none\" points=\"\n",
       "  1982.43,191.244 2126.43,191.244 \n",
       "  \"/>\n",
       "<g clip-path=\"url(#clip1301)\">\n",
       "<text style=\"fill:#000000; fill-opacity:1; font-family:Arial,Helvetica Neue,Helvetica,sans-serif; font-size:48px; text-anchor:start;\" transform=\"rotate(0, 2150.43, 208.744)\" x=\"2150.43\" y=\"208.744\">y1</text>\n",
       "</g>\n",
       "</svg>\n"
      ]
     },
     "execution_count": 17,
     "metadata": {},
     "output_type": "execute_result"
    }
   ],
   "source": [
    "using StatPlots\n",
    "d = Normal(2.0, 1.0)\n",
    "plot(d) # note no other arguments!"
   ]
  },
  {
   "cell_type": "markdown",
   "metadata": {},
   "source": [
    "The `plot` function when applied to anything which is a subtype of `Distributions{Univariate, Continuous}`, will display the `pdf` using the `minimum` and `maximum` applied to the value\n",
    "\n",
    "To demonstrate this, lets create our own distribution type"
   ]
  },
  {
   "cell_type": "code",
   "execution_count": 18,
   "metadata": {},
   "outputs": [],
   "source": [
    "struct OurTruncatedExponential <: Distribution{Univariate,Continuous}\n",
    "    α::Float64\n",
    "    xmax::Float64\n",
    "end\n",
    "Distributions.pdf(d::OurTruncatedExponential, x) = d.α *exp(-d.α * x)/exp(-d.α * d.xmax)\n",
    "Distributions.minimum(d::OurTruncatedExponential) = 0\n",
    "Distributions.maximum(d::OurTruncatedExponential) = d.xmax\n",
    "# ... should implement all of them, but this was enough"
   ]
  },
  {
   "cell_type": "markdown",
   "metadata": {},
   "source": [
    "To demonstrate this"
   ]
  },
  {
   "cell_type": "code",
   "execution_count": 19,
   "metadata": {},
   "outputs": [
    {
     "name": "stdout",
     "output_type": "stream",
     "text": [
      "(minimum(d), maximum(d)) = (0, 2.0)\n",
      "support(d) = RealInterval(0.0, 2.0)\n"
     ]
    },
    {
     "data": {
      "text/plain": [
       "RealInterval(0.0, 2.0)"
      ]
     },
     "execution_count": 19,
     "metadata": {},
     "output_type": "execute_result"
    }
   ],
   "source": [
    "d = OurTruncatedExponential(1.0,2.0)\n",
    "@show minimum(d), maximum(d)\n",
    "@show support(d) # why does this work?"
   ]
  },
  {
   "cell_type": "markdown",
   "metadata": {},
   "source": [
    "Curiously, you will note that the `support` function is operational, even though we did not provide one\n",
    "\n",
    "This is another example of the power of multiple dispatch and generic programming\n",
    "\n",
    "In the background, the `Distributions.jl` package  has something like the following implemented"
   ]
  },
  {
   "cell_type": "markdown",
   "metadata": {},
   "source": [
    "```julia\n",
    "    Distributions.support(d::Distribution) = RealInterval(minimum(d), maximum(d))\n",
    "```\n"
   ]
  },
  {
   "cell_type": "markdown",
   "metadata": {},
   "source": [
    "Hence, since `OurTruncatedExponential <: Distribution`, and we implemented `minimum` and `maximum`, calls to `support` gets this implementation\n",
    "\n",
    "Of course, while we should implement more of the func\n",
    "\n",
    "That turns out to be enough for us to use the `StatPlots` package"
   ]
  },
  {
   "cell_type": "code",
   "execution_count": 20,
   "metadata": {},
   "outputs": [
    {
     "data": {
      "image/svg+xml": [
       "<?xml version=\"1.0\" encoding=\"utf-8\"?>\n",
       "<svg xmlns=\"http://www.w3.org/2000/svg\" xmlns:xlink=\"http://www.w3.org/1999/xlink\" width=\"600\" height=\"400\" viewBox=\"0 0 2400 1600\">\n",
       "<defs>\n",
       "  <clipPath id=\"clip1500\">\n",
       "    <rect x=\"0\" y=\"0\" width=\"2000\" height=\"2000\"/>\n",
       "  </clipPath>\n",
       "</defs>\n",
       "<defs>\n",
       "  <clipPath id=\"clip1501\">\n",
       "    <rect x=\"0\" y=\"0\" width=\"2400\" height=\"1600\"/>\n",
       "  </clipPath>\n",
       "</defs>\n",
       "<polygon clip-path=\"url(#clip1501)\" points=\"\n",
       "0,1600 2400,1600 2400,0 0,0 \n",
       "  \" fill=\"#ffffff\" fill-opacity=\"1\"/>\n",
       "<defs>\n",
       "  <clipPath id=\"clip1502\">\n",
       "    <rect x=\"480\" y=\"0\" width=\"1681\" height=\"1600\"/>\n",
       "  </clipPath>\n",
       "</defs>\n",
       "<polygon clip-path=\"url(#clip1501)\" points=\"\n",
       "121.251,1503.47 2321.26,1503.47 2321.26,47.2441 121.251,47.2441 \n",
       "  \" fill=\"#ffffff\" fill-opacity=\"1\"/>\n",
       "<defs>\n",
       "  <clipPath id=\"clip1503\">\n",
       "    <rect x=\"121\" y=\"47\" width=\"2201\" height=\"1457\"/>\n",
       "  </clipPath>\n",
       "</defs>\n",
       "<polyline clip-path=\"url(#clip1503)\" style=\"stroke:#000000; stroke-width:2; stroke-opacity:0.1; fill:none\" points=\"\n",
       "  162.78,1503.47 162.78,47.2441 \n",
       "  \"/>\n",
       "<polyline clip-path=\"url(#clip1503)\" style=\"stroke:#000000; stroke-width:2; stroke-opacity:0.1; fill:none\" points=\"\n",
       "  693.58,1503.47 693.58,47.2441 \n",
       "  \"/>\n",
       "<polyline clip-path=\"url(#clip1503)\" style=\"stroke:#000000; stroke-width:2; stroke-opacity:0.1; fill:none\" points=\"\n",
       "  1224.38,1503.47 1224.38,47.2441 \n",
       "  \"/>\n",
       "<polyline clip-path=\"url(#clip1503)\" style=\"stroke:#000000; stroke-width:2; stroke-opacity:0.1; fill:none\" points=\"\n",
       "  1755.18,1503.47 1755.18,47.2441 \n",
       "  \"/>\n",
       "<polyline clip-path=\"url(#clip1503)\" style=\"stroke:#000000; stroke-width:2; stroke-opacity:0.1; fill:none\" points=\"\n",
       "  2285.98,1503.47 2285.98,47.2441 \n",
       "  \"/>\n",
       "<polyline clip-path=\"url(#clip1503)\" style=\"stroke:#000000; stroke-width:2; stroke-opacity:0.1; fill:none\" points=\"\n",
       "  121.251,1467.95 2321.26,1467.95 \n",
       "  \"/>\n",
       "<polyline clip-path=\"url(#clip1503)\" style=\"stroke:#000000; stroke-width:2; stroke-opacity:0.1; fill:none\" points=\"\n",
       "  121.251,1247.09 2321.26,1247.09 \n",
       "  \"/>\n",
       "<polyline clip-path=\"url(#clip1503)\" style=\"stroke:#000000; stroke-width:2; stroke-opacity:0.1; fill:none\" points=\"\n",
       "  121.251,1026.24 2321.26,1026.24 \n",
       "  \"/>\n",
       "<polyline clip-path=\"url(#clip1503)\" style=\"stroke:#000000; stroke-width:2; stroke-opacity:0.1; fill:none\" points=\"\n",
       "  121.251,805.382 2321.26,805.382 \n",
       "  \"/>\n",
       "<polyline clip-path=\"url(#clip1503)\" style=\"stroke:#000000; stroke-width:2; stroke-opacity:0.1; fill:none\" points=\"\n",
       "  121.251,584.528 2321.26,584.528 \n",
       "  \"/>\n",
       "<polyline clip-path=\"url(#clip1503)\" style=\"stroke:#000000; stroke-width:2; stroke-opacity:0.1; fill:none\" points=\"\n",
       "  121.251,363.673 2321.26,363.673 \n",
       "  \"/>\n",
       "<polyline clip-path=\"url(#clip1503)\" style=\"stroke:#000000; stroke-width:2; stroke-opacity:0.1; fill:none\" points=\"\n",
       "  121.251,142.818 2321.26,142.818 \n",
       "  \"/>\n",
       "<polyline clip-path=\"url(#clip1501)\" style=\"stroke:#000000; stroke-width:4; stroke-opacity:1; fill:none\" points=\"\n",
       "  121.251,1503.47 2321.26,1503.47 \n",
       "  \"/>\n",
       "<polyline clip-path=\"url(#clip1501)\" style=\"stroke:#000000; stroke-width:4; stroke-opacity:1; fill:none\" points=\"\n",
       "  121.251,1503.47 121.251,47.2441 \n",
       "  \"/>\n",
       "<polyline clip-path=\"url(#clip1501)\" style=\"stroke:#000000; stroke-width:4; stroke-opacity:1; fill:none\" points=\"\n",
       "  162.78,1503.47 162.78,1481.63 \n",
       "  \"/>\n",
       "<polyline clip-path=\"url(#clip1501)\" style=\"stroke:#000000; stroke-width:4; stroke-opacity:1; fill:none\" points=\"\n",
       "  693.58,1503.47 693.58,1481.63 \n",
       "  \"/>\n",
       "<polyline clip-path=\"url(#clip1501)\" style=\"stroke:#000000; stroke-width:4; stroke-opacity:1; fill:none\" points=\"\n",
       "  1224.38,1503.47 1224.38,1481.63 \n",
       "  \"/>\n",
       "<polyline clip-path=\"url(#clip1501)\" style=\"stroke:#000000; stroke-width:4; stroke-opacity:1; fill:none\" points=\"\n",
       "  1755.18,1503.47 1755.18,1481.63 \n",
       "  \"/>\n",
       "<polyline clip-path=\"url(#clip1501)\" style=\"stroke:#000000; stroke-width:4; stroke-opacity:1; fill:none\" points=\"\n",
       "  2285.98,1503.47 2285.98,1481.63 \n",
       "  \"/>\n",
       "<polyline clip-path=\"url(#clip1501)\" style=\"stroke:#000000; stroke-width:4; stroke-opacity:1; fill:none\" points=\"\n",
       "  121.251,1467.95 154.251,1467.95 \n",
       "  \"/>\n",
       "<polyline clip-path=\"url(#clip1501)\" style=\"stroke:#000000; stroke-width:4; stroke-opacity:1; fill:none\" points=\"\n",
       "  121.251,1247.09 154.251,1247.09 \n",
       "  \"/>\n",
       "<polyline clip-path=\"url(#clip1501)\" style=\"stroke:#000000; stroke-width:4; stroke-opacity:1; fill:none\" points=\"\n",
       "  121.251,1026.24 154.251,1026.24 \n",
       "  \"/>\n",
       "<polyline clip-path=\"url(#clip1501)\" style=\"stroke:#000000; stroke-width:4; stroke-opacity:1; fill:none\" points=\"\n",
       "  121.251,805.382 154.251,805.382 \n",
       "  \"/>\n",
       "<polyline clip-path=\"url(#clip1501)\" style=\"stroke:#000000; stroke-width:4; stroke-opacity:1; fill:none\" points=\"\n",
       "  121.251,584.528 154.251,584.528 \n",
       "  \"/>\n",
       "<polyline clip-path=\"url(#clip1501)\" style=\"stroke:#000000; stroke-width:4; stroke-opacity:1; fill:none\" points=\"\n",
       "  121.251,363.673 154.251,363.673 \n",
       "  \"/>\n",
       "<polyline clip-path=\"url(#clip1501)\" style=\"stroke:#000000; stroke-width:4; stroke-opacity:1; fill:none\" points=\"\n",
       "  121.251,142.818 154.251,142.818 \n",
       "  \"/>\n",
       "<g clip-path=\"url(#clip1501)\">\n",
       "<text style=\"fill:#000000; fill-opacity:1; font-family:Arial,Helvetica Neue,Helvetica,sans-serif; font-size:48px; text-anchor:middle;\" transform=\"rotate(0, 162.78, 1557.47)\" x=\"162.78\" y=\"1557.47\">0.0</text>\n",
       "</g>\n",
       "<g clip-path=\"url(#clip1501)\">\n",
       "<text style=\"fill:#000000; fill-opacity:1; font-family:Arial,Helvetica Neue,Helvetica,sans-serif; font-size:48px; text-anchor:middle;\" transform=\"rotate(0, 693.58, 1557.47)\" x=\"693.58\" y=\"1557.47\">0.5</text>\n",
       "</g>\n",
       "<g clip-path=\"url(#clip1501)\">\n",
       "<text style=\"fill:#000000; fill-opacity:1; font-family:Arial,Helvetica Neue,Helvetica,sans-serif; font-size:48px; text-anchor:middle;\" transform=\"rotate(0, 1224.38, 1557.47)\" x=\"1224.38\" y=\"1557.47\">1.0</text>\n",
       "</g>\n",
       "<g clip-path=\"url(#clip1501)\">\n",
       "<text style=\"fill:#000000; fill-opacity:1; font-family:Arial,Helvetica Neue,Helvetica,sans-serif; font-size:48px; text-anchor:middle;\" transform=\"rotate(0, 1755.18, 1557.47)\" x=\"1755.18\" y=\"1557.47\">1.5</text>\n",
       "</g>\n",
       "<g clip-path=\"url(#clip1501)\">\n",
       "<text style=\"fill:#000000; fill-opacity:1; font-family:Arial,Helvetica Neue,Helvetica,sans-serif; font-size:48px; text-anchor:middle;\" transform=\"rotate(0, 2285.98, 1557.47)\" x=\"2285.98\" y=\"1557.47\">2.0</text>\n",
       "</g>\n",
       "<g clip-path=\"url(#clip1501)\">\n",
       "<text style=\"fill:#000000; fill-opacity:1; font-family:Arial,Helvetica Neue,Helvetica,sans-serif; font-size:48px; text-anchor:end;\" transform=\"rotate(0, 97.2505, 1485.45)\" x=\"97.2505\" y=\"1485.45\">1</text>\n",
       "</g>\n",
       "<g clip-path=\"url(#clip1501)\">\n",
       "<text style=\"fill:#000000; fill-opacity:1; font-family:Arial,Helvetica Neue,Helvetica,sans-serif; font-size:48px; text-anchor:end;\" transform=\"rotate(0, 97.2505, 1264.59)\" x=\"97.2505\" y=\"1264.59\">2</text>\n",
       "</g>\n",
       "<g clip-path=\"url(#clip1501)\">\n",
       "<text style=\"fill:#000000; fill-opacity:1; font-family:Arial,Helvetica Neue,Helvetica,sans-serif; font-size:48px; text-anchor:end;\" transform=\"rotate(0, 97.2505, 1043.74)\" x=\"97.2505\" y=\"1043.74\">3</text>\n",
       "</g>\n",
       "<g clip-path=\"url(#clip1501)\">\n",
       "<text style=\"fill:#000000; fill-opacity:1; font-family:Arial,Helvetica Neue,Helvetica,sans-serif; font-size:48px; text-anchor:end;\" transform=\"rotate(0, 97.2505, 822.882)\" x=\"97.2505\" y=\"822.882\">4</text>\n",
       "</g>\n",
       "<g clip-path=\"url(#clip1501)\">\n",
       "<text style=\"fill:#000000; fill-opacity:1; font-family:Arial,Helvetica Neue,Helvetica,sans-serif; font-size:48px; text-anchor:end;\" transform=\"rotate(0, 97.2505, 602.028)\" x=\"97.2505\" y=\"602.028\">5</text>\n",
       "</g>\n",
       "<g clip-path=\"url(#clip1501)\">\n",
       "<text style=\"fill:#000000; fill-opacity:1; font-family:Arial,Helvetica Neue,Helvetica,sans-serif; font-size:48px; text-anchor:end;\" transform=\"rotate(0, 97.2505, 381.173)\" x=\"97.2505\" y=\"381.173\">6</text>\n",
       "</g>\n",
       "<g clip-path=\"url(#clip1501)\">\n",
       "<text style=\"fill:#000000; fill-opacity:1; font-family:Arial,Helvetica Neue,Helvetica,sans-serif; font-size:48px; text-anchor:end;\" transform=\"rotate(0, 97.2505, 160.318)\" x=\"97.2505\" y=\"160.318\">7</text>\n",
       "</g>\n",
       "<polyline clip-path=\"url(#clip1503)\" style=\"stroke:#009af9; stroke-width:4; stroke-opacity:1; fill:none\" points=\"\n",
       "  183.515,88.4582 375.238,352.882 490.455,490.281 587.87,595.365 693.69,699.102 791.247,785.997 895.838,870.702 1017.02,958.954 1124.71,1029.36 1219.14,1085.49 \n",
       "  1322.1,1141.25 1425.67,1192.15 1540.18,1242.93 1649.13,1286.42 1762.42,1327.15 1857.78,1358.22 1974.21,1392.56 2083.66,1421.58 2259,1462.26 \n",
       "  \"/>\n",
       "<polygon clip-path=\"url(#clip1501)\" points=\"\n",
       "1958.43,251.724 2249.26,251.724 2249.26,130.764 1958.43,130.764 \n",
       "  \" fill=\"#ffffff\" fill-opacity=\"1\"/>\n",
       "<polyline clip-path=\"url(#clip1501)\" style=\"stroke:#000000; stroke-width:4; stroke-opacity:1; fill:none\" points=\"\n",
       "  1958.43,251.724 2249.26,251.724 2249.26,130.764 1958.43,130.764 1958.43,251.724 \n",
       "  \"/>\n",
       "<polyline clip-path=\"url(#clip1501)\" style=\"stroke:#009af9; stroke-width:4; stroke-opacity:1; fill:none\" points=\"\n",
       "  1982.43,191.244 2126.43,191.244 \n",
       "  \"/>\n",
       "<g clip-path=\"url(#clip1501)\">\n",
       "<text style=\"fill:#000000; fill-opacity:1; font-family:Arial,Helvetica Neue,Helvetica,sans-serif; font-size:48px; text-anchor:start;\" transform=\"rotate(0, 2150.43, 208.744)\" x=\"2150.43\" y=\"208.744\">y1</text>\n",
       "</g>\n",
       "</svg>\n"
      ]
     },
     "execution_count": 20,
     "metadata": {},
     "output_type": "execute_result"
    }
   ],
   "source": [
    "plot(d) # uses the generic code!"
   ]
  },
  {
   "cell_type": "markdown",
   "metadata": {},
   "source": [
    "A few things to point out\n",
    "\n",
    "- Even if it worked for `StatPlots`, our implementation is incomplete, as we haven’t fulfilled all of the requirements of a `Distribution`  \n",
    "- We also did not implement the `rand` function, which means we are breaking the implicit contract of the `Sampleable` abstract type  \n",
    "- It turns out that there is a better way to to this precise thing already built into `Distributions`  "
   ]
  },
  {
   "cell_type": "code",
   "execution_count": 21,
   "metadata": {},
   "outputs": [
    {
     "name": "stdout",
     "output_type": "stream",
     "text": [
      "typeof(d) = Truncated{Exponential{Float64},Continuous}\n"
     ]
    },
    {
     "data": {
      "image/svg+xml": [
       "<?xml version=\"1.0\" encoding=\"utf-8\"?>\n",
       "<svg xmlns=\"http://www.w3.org/2000/svg\" xmlns:xlink=\"http://www.w3.org/1999/xlink\" width=\"600\" height=\"400\" viewBox=\"0 0 2400 1600\">\n",
       "<defs>\n",
       "  <clipPath id=\"clip1700\">\n",
       "    <rect x=\"0\" y=\"0\" width=\"2000\" height=\"2000\"/>\n",
       "  </clipPath>\n",
       "</defs>\n",
       "<defs>\n",
       "  <clipPath id=\"clip1701\">\n",
       "    <rect x=\"0\" y=\"0\" width=\"2400\" height=\"1600\"/>\n",
       "  </clipPath>\n",
       "</defs>\n",
       "<polygon clip-path=\"url(#clip1701)\" points=\"\n",
       "0,1600 2400,1600 2400,0 0,0 \n",
       "  \" fill=\"#ffffff\" fill-opacity=\"1\"/>\n",
       "<defs>\n",
       "  <clipPath id=\"clip1702\">\n",
       "    <rect x=\"480\" y=\"0\" width=\"1681\" height=\"1600\"/>\n",
       "  </clipPath>\n",
       "</defs>\n",
       "<polygon clip-path=\"url(#clip1701)\" points=\"\n",
       "188.156,1503.47 2321.26,1503.47 2321.26,47.2441 188.156,47.2441 \n",
       "  \" fill=\"#ffffff\" fill-opacity=\"1\"/>\n",
       "<defs>\n",
       "  <clipPath id=\"clip1703\">\n",
       "    <rect x=\"188\" y=\"47\" width=\"2134\" height=\"1457\"/>\n",
       "  </clipPath>\n",
       "</defs>\n",
       "<polyline clip-path=\"url(#clip1703)\" style=\"stroke:#000000; stroke-width:2; stroke-opacity:0.1; fill:none\" points=\"\n",
       "  246.036,1503.47 246.036,47.2441 \n",
       "  \"/>\n",
       "<polyline clip-path=\"url(#clip1703)\" style=\"stroke:#000000; stroke-width:2; stroke-opacity:0.1; fill:none\" points=\"\n",
       "  756.233,1503.47 756.233,47.2441 \n",
       "  \"/>\n",
       "<polyline clip-path=\"url(#clip1703)\" style=\"stroke:#000000; stroke-width:2; stroke-opacity:0.1; fill:none\" points=\"\n",
       "  1266.43,1503.47 1266.43,47.2441 \n",
       "  \"/>\n",
       "<polyline clip-path=\"url(#clip1703)\" style=\"stroke:#000000; stroke-width:2; stroke-opacity:0.1; fill:none\" points=\"\n",
       "  1776.63,1503.47 1776.63,47.2441 \n",
       "  \"/>\n",
       "<polyline clip-path=\"url(#clip1703)\" style=\"stroke:#000000; stroke-width:2; stroke-opacity:0.1; fill:none\" points=\"\n",
       "  2286.83,1503.47 2286.83,47.2441 \n",
       "  \"/>\n",
       "<polyline clip-path=\"url(#clip1703)\" style=\"stroke:#000000; stroke-width:2; stroke-opacity:0.1; fill:none\" points=\"\n",
       "  188.156,1462.26 2321.26,1462.26 \n",
       "  \"/>\n",
       "<polyline clip-path=\"url(#clip1703)\" style=\"stroke:#000000; stroke-width:2; stroke-opacity:0.1; fill:none\" points=\"\n",
       "  188.156,1110.32 2321.26,1110.32 \n",
       "  \"/>\n",
       "<polyline clip-path=\"url(#clip1703)\" style=\"stroke:#000000; stroke-width:2; stroke-opacity:0.1; fill:none\" points=\"\n",
       "  188.156,758.383 2321.26,758.383 \n",
       "  \"/>\n",
       "<polyline clip-path=\"url(#clip1703)\" style=\"stroke:#000000; stroke-width:2; stroke-opacity:0.1; fill:none\" points=\"\n",
       "  188.156,406.444 2321.26,406.444 \n",
       "  \"/>\n",
       "<polyline clip-path=\"url(#clip1703)\" style=\"stroke:#000000; stroke-width:2; stroke-opacity:0.1; fill:none\" points=\"\n",
       "  188.156,54.5046 2321.26,54.5046 \n",
       "  \"/>\n",
       "<polyline clip-path=\"url(#clip1701)\" style=\"stroke:#000000; stroke-width:4; stroke-opacity:1; fill:none\" points=\"\n",
       "  188.156,1503.47 2321.26,1503.47 \n",
       "  \"/>\n",
       "<polyline clip-path=\"url(#clip1701)\" style=\"stroke:#000000; stroke-width:4; stroke-opacity:1; fill:none\" points=\"\n",
       "  188.156,1503.47 188.156,47.2441 \n",
       "  \"/>\n",
       "<polyline clip-path=\"url(#clip1701)\" style=\"stroke:#000000; stroke-width:4; stroke-opacity:1; fill:none\" points=\"\n",
       "  246.036,1503.47 246.036,1481.63 \n",
       "  \"/>\n",
       "<polyline clip-path=\"url(#clip1701)\" style=\"stroke:#000000; stroke-width:4; stroke-opacity:1; fill:none\" points=\"\n",
       "  756.233,1503.47 756.233,1481.63 \n",
       "  \"/>\n",
       "<polyline clip-path=\"url(#clip1701)\" style=\"stroke:#000000; stroke-width:4; stroke-opacity:1; fill:none\" points=\"\n",
       "  1266.43,1503.47 1266.43,1481.63 \n",
       "  \"/>\n",
       "<polyline clip-path=\"url(#clip1701)\" style=\"stroke:#000000; stroke-width:4; stroke-opacity:1; fill:none\" points=\"\n",
       "  1776.63,1503.47 1776.63,1481.63 \n",
       "  \"/>\n",
       "<polyline clip-path=\"url(#clip1701)\" style=\"stroke:#000000; stroke-width:4; stroke-opacity:1; fill:none\" points=\"\n",
       "  2286.83,1503.47 2286.83,1481.63 \n",
       "  \"/>\n",
       "<polyline clip-path=\"url(#clip1701)\" style=\"stroke:#000000; stroke-width:4; stroke-opacity:1; fill:none\" points=\"\n",
       "  188.156,1462.26 220.153,1462.26 \n",
       "  \"/>\n",
       "<polyline clip-path=\"url(#clip1701)\" style=\"stroke:#000000; stroke-width:4; stroke-opacity:1; fill:none\" points=\"\n",
       "  188.156,1110.32 220.153,1110.32 \n",
       "  \"/>\n",
       "<polyline clip-path=\"url(#clip1701)\" style=\"stroke:#000000; stroke-width:4; stroke-opacity:1; fill:none\" points=\"\n",
       "  188.156,758.383 220.153,758.383 \n",
       "  \"/>\n",
       "<polyline clip-path=\"url(#clip1701)\" style=\"stroke:#000000; stroke-width:4; stroke-opacity:1; fill:none\" points=\"\n",
       "  188.156,406.444 220.153,406.444 \n",
       "  \"/>\n",
       "<polyline clip-path=\"url(#clip1701)\" style=\"stroke:#000000; stroke-width:4; stroke-opacity:1; fill:none\" points=\"\n",
       "  188.156,54.5046 220.153,54.5046 \n",
       "  \"/>\n",
       "<g clip-path=\"url(#clip1701)\">\n",
       "<text style=\"fill:#000000; fill-opacity:1; font-family:Arial,Helvetica Neue,Helvetica,sans-serif; font-size:48px; text-anchor:middle;\" transform=\"rotate(0, 246.036, 1557.47)\" x=\"246.036\" y=\"1557.47\">0.0</text>\n",
       "</g>\n",
       "<g clip-path=\"url(#clip1701)\">\n",
       "<text style=\"fill:#000000; fill-opacity:1; font-family:Arial,Helvetica Neue,Helvetica,sans-serif; font-size:48px; text-anchor:middle;\" transform=\"rotate(0, 756.233, 1557.47)\" x=\"756.233\" y=\"1557.47\">0.5</text>\n",
       "</g>\n",
       "<g clip-path=\"url(#clip1701)\">\n",
       "<text style=\"fill:#000000; fill-opacity:1; font-family:Arial,Helvetica Neue,Helvetica,sans-serif; font-size:48px; text-anchor:middle;\" transform=\"rotate(0, 1266.43, 1557.47)\" x=\"1266.43\" y=\"1557.47\">1.0</text>\n",
       "</g>\n",
       "<g clip-path=\"url(#clip1701)\">\n",
       "<text style=\"fill:#000000; fill-opacity:1; font-family:Arial,Helvetica Neue,Helvetica,sans-serif; font-size:48px; text-anchor:middle;\" transform=\"rotate(0, 1776.63, 1557.47)\" x=\"1776.63\" y=\"1557.47\">1.5</text>\n",
       "</g>\n",
       "<g clip-path=\"url(#clip1701)\">\n",
       "<text style=\"fill:#000000; fill-opacity:1; font-family:Arial,Helvetica Neue,Helvetica,sans-serif; font-size:48px; text-anchor:middle;\" transform=\"rotate(0, 2286.83, 1557.47)\" x=\"2286.83\" y=\"1557.47\">2.0</text>\n",
       "</g>\n",
       "<g clip-path=\"url(#clip1701)\">\n",
       "<text style=\"fill:#000000; fill-opacity:1; font-family:Arial,Helvetica Neue,Helvetica,sans-serif; font-size:48px; text-anchor:end;\" transform=\"rotate(0, 164.156, 1479.76)\" x=\"164.156\" y=\"1479.76\">0.0</text>\n",
       "</g>\n",
       "<g clip-path=\"url(#clip1701)\">\n",
       "<text style=\"fill:#000000; fill-opacity:1; font-family:Arial,Helvetica Neue,Helvetica,sans-serif; font-size:48px; text-anchor:end;\" transform=\"rotate(0, 164.156, 1127.82)\" x=\"164.156\" y=\"1127.82\">2.5</text>\n",
       "</g>\n",
       "<g clip-path=\"url(#clip1701)\">\n",
       "<text style=\"fill:#000000; fill-opacity:1; font-family:Arial,Helvetica Neue,Helvetica,sans-serif; font-size:48px; text-anchor:end;\" transform=\"rotate(0, 164.156, 775.883)\" x=\"164.156\" y=\"775.883\">5.0</text>\n",
       "</g>\n",
       "<g clip-path=\"url(#clip1701)\">\n",
       "<text style=\"fill:#000000; fill-opacity:1; font-family:Arial,Helvetica Neue,Helvetica,sans-serif; font-size:48px; text-anchor:end;\" transform=\"rotate(0, 164.156, 423.944)\" x=\"164.156\" y=\"423.944\">7.5</text>\n",
       "</g>\n",
       "<g clip-path=\"url(#clip1701)\">\n",
       "<text style=\"fill:#000000; fill-opacity:1; font-family:Arial,Helvetica Neue,Helvetica,sans-serif; font-size:48px; text-anchor:end;\" transform=\"rotate(0, 164.156, 72.0046)\" x=\"164.156\" y=\"72.0046\">10.0</text>\n",
       "</g>\n",
       "<polyline clip-path=\"url(#clip1703)\" style=\"stroke:#009af9; stroke-width:4; stroke-opacity:1; fill:none\" points=\"\n",
       "  248.527,88.4582 251.018,121.593 253.51,153.928 256.001,185.484 258.492,216.278 260.983,246.33 263.475,275.657 265.966,304.277 277.484,427.876 289.001,538.283 \n",
       "  300.519,636.905 312.036,725.001 323.554,803.693 335.072,873.987 346.589,936.777 358.107,992.866 369.624,1042.97 381.142,1087.72 392.659,1127.7 404.177,1163.41 \n",
       "  427.212,1223.8 450.247,1271.99 477.934,1317.2 505.62,1351.67 533.307,1377.95 560.993,1397.99 607.81,1421.64 654.627,1436.59 756.339,1452.79 850.11,1458.48 \n",
       "  950.641,1460.85 1067.12,1461.81 1170.63,1462.1 1261.39,1462.19 1360.36,1462.24 1459.91,1462.25 1569.97,1462.26 1674.7,1462.26 1783.59,1462.26 1875.25,1462.26 \n",
       "  1987.16,1462.26 2092.35,1462.26 2260.89,1462.26 \n",
       "  \"/>\n",
       "<polygon clip-path=\"url(#clip1701)\" points=\"\n",
       "1958.43,251.724 2249.26,251.724 2249.26,130.764 1958.43,130.764 \n",
       "  \" fill=\"#ffffff\" fill-opacity=\"1\"/>\n",
       "<polyline clip-path=\"url(#clip1701)\" style=\"stroke:#000000; stroke-width:4; stroke-opacity:1; fill:none\" points=\"\n",
       "  1958.43,251.724 2249.26,251.724 2249.26,130.764 1958.43,130.764 1958.43,251.724 \n",
       "  \"/>\n",
       "<polyline clip-path=\"url(#clip1701)\" style=\"stroke:#009af9; stroke-width:4; stroke-opacity:1; fill:none\" points=\"\n",
       "  1982.43,191.244 2126.43,191.244 \n",
       "  \"/>\n",
       "<g clip-path=\"url(#clip1701)\">\n",
       "<text style=\"fill:#000000; fill-opacity:1; font-family:Arial,Helvetica Neue,Helvetica,sans-serif; font-size:48px; text-anchor:start;\" transform=\"rotate(0, 2150.43, 208.744)\" x=\"2150.43\" y=\"208.744\">y1</text>\n",
       "</g>\n",
       "</svg>\n"
      ]
     },
     "execution_count": 21,
     "metadata": {},
     "output_type": "execute_result"
    }
   ],
   "source": [
    "d = Truncated(Exponential(0.1), 0.0, 2.0)\n",
    "@show typeof(d)\n",
    "plot(d)"
   ]
  },
  {
   "cell_type": "markdown",
   "metadata": {},
   "source": [
    "This is the power of generic programming in general, and Julia in particular: you can combine and compose completely separate packages and code, as long as there is an agreement on abstract types and functions"
   ]
  },
  {
   "cell_type": "markdown",
   "metadata": {},
   "source": [
    "## Number, Real, and Algebraic Structures\n",
    "\n",
    "In mathematics, a [Ring](https://en.wikipedia.org/wiki/Ring_(mathematics)) is a set with two binary operators ($ + $ and $ \\cdot $, called the additive and multiplicative operators) where there is an\n",
    "* additive operator is associative and commutative\n",
    "* multiplicative operator is associative and and distributive with respect to the additive operator\n",
    "* additive identity element, usually denoted `0` such that $ a + 0 = a $ for any $ a $ in the set\n",
    "* additive inverse of each element, i.e. $ -a $ such that $ a + (-a) = 0 $\n",
    "* multiplicative identity element, usually denoted `1` such that $ a \\cdot 1 = a $\n",
    "\n",
    "This is skipping over a few other key parts of the definition, but it is also useful to say what is not needed\n",
    "* A total or partial ordering is not required (i.e. there does not need to be any meaningful `<` operator defined)\n",
    "* A multiplicative inverse is not required\n",
    "\n",
    "This algebraic structure provides motivation for the abstract `Number` type in Julia\n",
    "\n",
    "**Remark** We use motivation here because they are not formally connected and the mapping is imperfect\n",
    "\n",
    "- The main difficulty when dealing with numbers that can be concretely created on a computer is that the closure requirements are difficult to ensure (e.g. floating points have finite numbers of bits of information)  \n",
    "\n",
    "\n",
    "Let `typeof(a) = typeof(b) = T <: Number`, then under an implicit definition of the **generic interface** for `Number` the following must be defined\n",
    "* the additive operator: `a + b`\n",
    "* the multiplicative operator: `a * b`\n",
    "* an additive inverse operator: `-a`\n",
    "* an inverse operation for addition `a - b = a + (-b)`\n",
    "* an additive identity: `zero(T)` or `zero(a)` for convenience\n",
    "* a multiplicative identity: `one(T)` or `one(a)` for convenience\n",
    "\n",
    "The core of generic programming is that, given the knowledge that a value is of type `Number`, we can write to that generic interface\n",
    "\n",
    "To demonstrate these for a complex number or a big integer (i.e., two types other than the standard `Float64` `Int64` you may associate with numbers)"
   ]
  },
  {
   "cell_type": "code",
   "execution_count": 22,
   "metadata": {},
   "outputs": [
    {
     "name": "stdout",
     "output_type": "stream",
     "text": [
      "typeof(a) = Complex{Float64}\n",
      "typeof(a) <: Number = true\n",
      "a + b = 1.0 + 3.0im\n",
      "a * b = -2.0 + 2.0im\n",
      "-a = -1.0 - 1.0im\n",
      "a - b = 1.0 - 1.0im\n",
      "zero(a) = 0.0 + 0.0im\n",
      "one(a) = 1.0 + 0.0im\n"
     ]
    }
   ],
   "source": [
    "a = 1.0 + 1.0im\n",
    "b = 0.0 + 2.0im\n",
    "@show typeof(a)\n",
    "@show typeof(a) <: Number\n",
    "@show a + b\n",
    "@show a * b\n",
    "@show -a\n",
    "@show a - b\n",
    "@show zero(a)\n",
    "@show one(a);"
   ]
  },
  {
   "cell_type": "code",
   "execution_count": 23,
   "metadata": {},
   "outputs": [
    {
     "name": "stdout",
     "output_type": "stream",
     "text": [
      "typeof(a) = BigInt\n",
      "typeof(a) <: Number = true\n",
      "a + b = 14\n",
      "a * b = 40\n",
      "-a = -10\n",
      "a - b = 6\n",
      "zero(a) = 0\n",
      "one(a) = 1\n"
     ]
    }
   ],
   "source": [
    "a = BigInt(10)\n",
    "b = BigInt(4)\n",
    "@show typeof(a)\n",
    "@show typeof(a) <: Number\n",
    "@show a + b\n",
    "@show a * b\n",
    "@show -a\n",
    "@show a - b\n",
    "@show zero(a)\n",
    "@show one(a);"
   ]
  },
  {
   "cell_type": "markdown",
   "metadata": {},
   "source": [
    "Thinking back to the mathematical motivation, a [Field](https://en.wikipedia.org/wiki/Field_(mathematics)) is an Ring with a few additional properties, among them\n",
    "* a multiplicative inverse: $ a^{-1} $\n",
    "* an inverse operation for multiplication: $ a / b = a \\cdot b^{-1} $\n",
    "* a (not strictly required) total ordering operation: $ a < b $\n",
    "\n",
    "where the  [total ordering](https://en.wikipedia.org/wiki/Total_order#Strict_total_order)  operation would fulfill the requirements for a Totally Ordered Field\n",
    "\n",
    "This type gives some motivation for the operations and properties of the `Real` type\n",
    "\n",
    "Of course, `Complex{Float64} <: Number` but not `Real`, which makes sense since those operations are not defined for the basic Complex number type in mathematics\n",
    "\n",
    "These operations are implemented in any subtype of `Real` through\n",
    "* the multiplicative inverse: `inv(a)`\n",
    "* the multiplicative inverse operation: `a / b = a * inv(b)`\n",
    "* an ordering `a < b`\n",
    "\n",
    "To demonstrate with the `Rational` type"
   ]
  },
  {
   "cell_type": "code",
   "execution_count": 24,
   "metadata": {},
   "outputs": [
    {
     "name": "stdout",
     "output_type": "stream",
     "text": [
      "typeof(a) = Rational{Int64}\n",
      "typeof(a) <: Number = true\n",
      "typeof(a) <: Real = true\n",
      "inv(a) = 10//1\n",
      "a / b = 3//20\n",
      "a < b = true\n"
     ]
    }
   ],
   "source": [
    "a = 1 // 10\n",
    "b = 4 // 6\n",
    "@show typeof(a)\n",
    "@show typeof(a) <: Number\n",
    "@show typeof(a) <: Real\n",
    "@show inv(a)\n",
    "@show a / b\n",
    "@show a < b;"
   ]
  },
  {
   "cell_type": "markdown",
   "metadata": {},
   "source": [
    "**Remark** Here we see where and how the precise connection to the mathematics for number types breaks down for practical reasons, in particular\n",
    "* `Integer` types (i.e. `Int64 <: Integer`) do not have a a multiplicative inverse with closure in the set\n",
    "* However, it is necessary in practice for integer division to be defined, and return back a member of the `Reals`\n",
    "* This is called [type promotion](https://docs.julialang.org/en/v1/manual/conversion-and-promotion/#Promotion-1), where a type can be converted to another to ensure an operation is possible by direct conversion between types (i.e. it can be independent of the type hierarchy)\n",
    "\n",
    "Do not think of the break in the connection between the underlying algebraic structures and the code as a failure of the language or design, but rather that the underlying algorithms for use on a computer do not perfectly fit the algebraic structures in this instance\n",
    "\n",
    "Moving further down the tree of types provides more operations, which start to become more tied to the computational implementation than the mathematics\n",
    "\n",
    "For example, floating point numbers all have a machine precision below which there is no way to further differentiate numbers"
   ]
  },
  {
   "cell_type": "code",
   "execution_count": 25,
   "metadata": {},
   "outputs": [
    {
     "name": "stdout",
     "output_type": "stream",
     "text": [
      "Float64 <: AbstractFloat = true\n",
      "BigFloat <: AbstractFloat = true\n",
      "eps(Float64) = 2.220446049250313e-16\n",
      "eps(BigFloat) = 1.727233711018888925077270372560079914223200072887256277004740694033718360632485e-77\n"
     ]
    }
   ],
   "source": [
    "@show Float64 <: AbstractFloat\n",
    "@show BigFloat <: AbstractFloat\n",
    "@show eps(Float64)\n",
    "@show eps(BigFloat);"
   ]
  },
  {
   "cell_type": "markdown",
   "metadata": {},
   "source": [
    "The `isless` function also has multiple methods\n",
    "\n",
    "First let’s try with integers"
   ]
  },
  {
   "cell_type": "code",
   "execution_count": 26,
   "metadata": {},
   "outputs": [
    {
     "data": {
      "text/html": [
       "isless(x::<b>Real</b>, y::<b>Real</b>) in Base at <a href=\"https://github.com/JuliaLang/julia/tree/d789231e9985537686052db9b2314c0d51656308/base/operators.jl#L338\" target=\"_blank\">operators.jl:338</a>"
      ],
      "text/plain": [
       "isless(x::Real, y::Real) in Base at operators.jl:338"
      ]
     },
     "execution_count": 26,
     "metadata": {},
     "output_type": "execute_result"
    }
   ],
   "source": [
    "@which isless(1, 2)"
   ]
  },
  {
   "cell_type": "markdown",
   "metadata": {},
   "source": [
    "As we saw previously, the Real data type is an *abstract* type, and encompasses both floats and integers\n",
    "\n",
    "If we go to the provided link in the source, we see the entirety of the function is"
   ]
  },
  {
   "cell_type": "markdown",
   "metadata": {},
   "source": [
    "```julia\n",
    "isless(x::Real, y::Real) = x<y\n",
    "```\n"
   ]
  },
  {
   "cell_type": "markdown",
   "metadata": {},
   "source": [
    "That is, for any values where `typeof(x) <: Real` and `typeof(y) <: Real`, the definition relies on `<`\n",
    "\n",
    "We know that `<` is defined for the types because it is part of the informal interface for the `Real` abstract type\n",
    "\n",
    "Note that this is not defined for `Number` because not all `Number` types have the `<` operator defined (e.g. `Complex`)\n",
    "\n",
    "Of course, in order to generate fast code,"
   ]
  },
  {
   "cell_type": "code",
   "execution_count": 27,
   "metadata": {},
   "outputs": [
    {
     "data": {
      "text/plain": [
       "true"
      ]
     },
     "execution_count": 27,
     "metadata": {},
     "output_type": "execute_result"
    }
   ],
   "source": [
    "isless(1.0, 2.0)  # Applied to two floats"
   ]
  },
  {
   "cell_type": "code",
   "execution_count": 28,
   "metadata": {},
   "outputs": [
    {
     "data": {
      "text/html": [
       "isless(x::<b>Float64</b>, y::<b>Float64</b>) in Base at <a href=\"https://github.com/JuliaLang/julia/tree/d789231e9985537686052db9b2314c0d51656308/base/float.jl#L459\" target=\"_blank\">float.jl:459</a>"
      ],
      "text/plain": [
       "isless(x::Float64, y::Float64) in Base at float.jl:459"
      ]
     },
     "execution_count": 28,
     "metadata": {},
     "output_type": "execute_result"
    }
   ],
   "source": [
    "@which isless(1.0, 2.0)"
   ]
  },
  {
   "cell_type": "markdown",
   "metadata": {},
   "source": [
    "Note that the reason  `Float64 <: Real`"
   ]
  },
  {
   "cell_type": "markdown",
   "metadata": {},
   "source": [
    "## Functions, and Function-Like Types\n",
    "\n",
    "Another common example of the separation between data structures and algorithms is the use of functions\n",
    "\n",
    "Syntactically, we should consider a univariate “function” any `f` that can call an argument `x` as `f(x)` for a general `x`\n",
    "\n",
    "For example, we can use a standard function"
   ]
  },
  {
   "cell_type": "code",
   "execution_count": 29,
   "metadata": {},
   "outputs": [
    {
     "name": "stdout",
     "output_type": "stream",
     "text": [
      "integrate(f, 0.0, 1.0) = (0.3333333333333333, 5.551115123125783e-17)\n"
     ]
    },
    {
     "data": {
      "image/svg+xml": [
       "<?xml version=\"1.0\" encoding=\"utf-8\"?>\n",
       "<svg xmlns=\"http://www.w3.org/2000/svg\" xmlns:xlink=\"http://www.w3.org/1999/xlink\" width=\"600\" height=\"400\" viewBox=\"0 0 2400 1600\">\n",
       "<defs>\n",
       "  <clipPath id=\"clip1900\">\n",
       "    <rect x=\"0\" y=\"0\" width=\"2000\" height=\"2000\"/>\n",
       "  </clipPath>\n",
       "</defs>\n",
       "<defs>\n",
       "  <clipPath id=\"clip1901\">\n",
       "    <rect x=\"0\" y=\"0\" width=\"2400\" height=\"1600\"/>\n",
       "  </clipPath>\n",
       "</defs>\n",
       "<polygon clip-path=\"url(#clip1901)\" points=\"\n",
       "0,1600 2400,1600 2400,0 0,0 \n",
       "  \" fill=\"#ffffff\" fill-opacity=\"1\"/>\n",
       "<defs>\n",
       "  <clipPath id=\"clip1902\">\n",
       "    <rect x=\"480\" y=\"0\" width=\"1681\" height=\"1600\"/>\n",
       "  </clipPath>\n",
       "</defs>\n",
       "<polygon clip-path=\"url(#clip1901)\" points=\"\n",
       "188.156,1503.47 2321.26,1503.47 2321.26,47.2441 188.156,47.2441 \n",
       "  \" fill=\"#ffffff\" fill-opacity=\"1\"/>\n",
       "<defs>\n",
       "  <clipPath id=\"clip1903\">\n",
       "    <rect x=\"188\" y=\"47\" width=\"2134\" height=\"1457\"/>\n",
       "  </clipPath>\n",
       "</defs>\n",
       "<polyline clip-path=\"url(#clip1903)\" style=\"stroke:#000000; stroke-width:2; stroke-opacity:0.1; fill:none\" points=\"\n",
       "  248.527,1503.47 248.527,47.2441 \n",
       "  \"/>\n",
       "<polyline clip-path=\"url(#clip1903)\" style=\"stroke:#000000; stroke-width:2; stroke-opacity:0.1; fill:none\" points=\"\n",
       "  751.618,1503.47 751.618,47.2441 \n",
       "  \"/>\n",
       "<polyline clip-path=\"url(#clip1903)\" style=\"stroke:#000000; stroke-width:2; stroke-opacity:0.1; fill:none\" points=\"\n",
       "  1254.71,1503.47 1254.71,47.2441 \n",
       "  \"/>\n",
       "<polyline clip-path=\"url(#clip1903)\" style=\"stroke:#000000; stroke-width:2; stroke-opacity:0.1; fill:none\" points=\"\n",
       "  1757.8,1503.47 1757.8,47.2441 \n",
       "  \"/>\n",
       "<polyline clip-path=\"url(#clip1903)\" style=\"stroke:#000000; stroke-width:2; stroke-opacity:0.1; fill:none\" points=\"\n",
       "  2260.89,1503.47 2260.89,47.2441 \n",
       "  \"/>\n",
       "<polyline clip-path=\"url(#clip1903)\" style=\"stroke:#000000; stroke-width:2; stroke-opacity:0.1; fill:none\" points=\"\n",
       "  188.156,1462.26 2321.26,1462.26 \n",
       "  \"/>\n",
       "<polyline clip-path=\"url(#clip1903)\" style=\"stroke:#000000; stroke-width:2; stroke-opacity:0.1; fill:none\" points=\"\n",
       "  188.156,1118.81 2321.26,1118.81 \n",
       "  \"/>\n",
       "<polyline clip-path=\"url(#clip1903)\" style=\"stroke:#000000; stroke-width:2; stroke-opacity:0.1; fill:none\" points=\"\n",
       "  188.156,775.359 2321.26,775.359 \n",
       "  \"/>\n",
       "<polyline clip-path=\"url(#clip1903)\" style=\"stroke:#000000; stroke-width:2; stroke-opacity:0.1; fill:none\" points=\"\n",
       "  188.156,431.909 2321.26,431.909 \n",
       "  \"/>\n",
       "<polyline clip-path=\"url(#clip1903)\" style=\"stroke:#000000; stroke-width:2; stroke-opacity:0.1; fill:none\" points=\"\n",
       "  188.156,88.4582 2321.26,88.4582 \n",
       "  \"/>\n",
       "<polyline clip-path=\"url(#clip1901)\" style=\"stroke:#000000; stroke-width:4; stroke-opacity:1; fill:none\" points=\"\n",
       "  188.156,1503.47 2321.26,1503.47 \n",
       "  \"/>\n",
       "<polyline clip-path=\"url(#clip1901)\" style=\"stroke:#000000; stroke-width:4; stroke-opacity:1; fill:none\" points=\"\n",
       "  188.156,1503.47 188.156,47.2441 \n",
       "  \"/>\n",
       "<polyline clip-path=\"url(#clip1901)\" style=\"stroke:#000000; stroke-width:4; stroke-opacity:1; fill:none\" points=\"\n",
       "  248.527,1503.47 248.527,1481.63 \n",
       "  \"/>\n",
       "<polyline clip-path=\"url(#clip1901)\" style=\"stroke:#000000; stroke-width:4; stroke-opacity:1; fill:none\" points=\"\n",
       "  751.618,1503.47 751.618,1481.63 \n",
       "  \"/>\n",
       "<polyline clip-path=\"url(#clip1901)\" style=\"stroke:#000000; stroke-width:4; stroke-opacity:1; fill:none\" points=\"\n",
       "  1254.71,1503.47 1254.71,1481.63 \n",
       "  \"/>\n",
       "<polyline clip-path=\"url(#clip1901)\" style=\"stroke:#000000; stroke-width:4; stroke-opacity:1; fill:none\" points=\"\n",
       "  1757.8,1503.47 1757.8,1481.63 \n",
       "  \"/>\n",
       "<polyline clip-path=\"url(#clip1901)\" style=\"stroke:#000000; stroke-width:4; stroke-opacity:1; fill:none\" points=\"\n",
       "  2260.89,1503.47 2260.89,1481.63 \n",
       "  \"/>\n",
       "<polyline clip-path=\"url(#clip1901)\" style=\"stroke:#000000; stroke-width:4; stroke-opacity:1; fill:none\" points=\"\n",
       "  188.156,1462.26 220.153,1462.26 \n",
       "  \"/>\n",
       "<polyline clip-path=\"url(#clip1901)\" style=\"stroke:#000000; stroke-width:4; stroke-opacity:1; fill:none\" points=\"\n",
       "  188.156,1118.81 220.153,1118.81 \n",
       "  \"/>\n",
       "<polyline clip-path=\"url(#clip1901)\" style=\"stroke:#000000; stroke-width:4; stroke-opacity:1; fill:none\" points=\"\n",
       "  188.156,775.359 220.153,775.359 \n",
       "  \"/>\n",
       "<polyline clip-path=\"url(#clip1901)\" style=\"stroke:#000000; stroke-width:4; stroke-opacity:1; fill:none\" points=\"\n",
       "  188.156,431.909 220.153,431.909 \n",
       "  \"/>\n",
       "<polyline clip-path=\"url(#clip1901)\" style=\"stroke:#000000; stroke-width:4; stroke-opacity:1; fill:none\" points=\"\n",
       "  188.156,88.4582 220.153,88.4582 \n",
       "  \"/>\n",
       "<g clip-path=\"url(#clip1901)\">\n",
       "<text style=\"fill:#000000; fill-opacity:1; font-family:Arial,Helvetica Neue,Helvetica,sans-serif; font-size:48px; text-anchor:middle;\" transform=\"rotate(0, 248.527, 1557.47)\" x=\"248.527\" y=\"1557.47\">0.00</text>\n",
       "</g>\n",
       "<g clip-path=\"url(#clip1901)\">\n",
       "<text style=\"fill:#000000; fill-opacity:1; font-family:Arial,Helvetica Neue,Helvetica,sans-serif; font-size:48px; text-anchor:middle;\" transform=\"rotate(0, 751.618, 1557.47)\" x=\"751.618\" y=\"1557.47\">0.25</text>\n",
       "</g>\n",
       "<g clip-path=\"url(#clip1901)\">\n",
       "<text style=\"fill:#000000; fill-opacity:1; font-family:Arial,Helvetica Neue,Helvetica,sans-serif; font-size:48px; text-anchor:middle;\" transform=\"rotate(0, 1254.71, 1557.47)\" x=\"1254.71\" y=\"1557.47\">0.50</text>\n",
       "</g>\n",
       "<g clip-path=\"url(#clip1901)\">\n",
       "<text style=\"fill:#000000; fill-opacity:1; font-family:Arial,Helvetica Neue,Helvetica,sans-serif; font-size:48px; text-anchor:middle;\" transform=\"rotate(0, 1757.8, 1557.47)\" x=\"1757.8\" y=\"1557.47\">0.75</text>\n",
       "</g>\n",
       "<g clip-path=\"url(#clip1901)\">\n",
       "<text style=\"fill:#000000; fill-opacity:1; font-family:Arial,Helvetica Neue,Helvetica,sans-serif; font-size:48px; text-anchor:middle;\" transform=\"rotate(0, 2260.89, 1557.47)\" x=\"2260.89\" y=\"1557.47\">1.00</text>\n",
       "</g>\n",
       "<g clip-path=\"url(#clip1901)\">\n",
       "<text style=\"fill:#000000; fill-opacity:1; font-family:Arial,Helvetica Neue,Helvetica,sans-serif; font-size:48px; text-anchor:end;\" transform=\"rotate(0, 164.156, 1479.76)\" x=\"164.156\" y=\"1479.76\">0.00</text>\n",
       "</g>\n",
       "<g clip-path=\"url(#clip1901)\">\n",
       "<text style=\"fill:#000000; fill-opacity:1; font-family:Arial,Helvetica Neue,Helvetica,sans-serif; font-size:48px; text-anchor:end;\" transform=\"rotate(0, 164.156, 1136.31)\" x=\"164.156\" y=\"1136.31\">0.25</text>\n",
       "</g>\n",
       "<g clip-path=\"url(#clip1901)\">\n",
       "<text style=\"fill:#000000; fill-opacity:1; font-family:Arial,Helvetica Neue,Helvetica,sans-serif; font-size:48px; text-anchor:end;\" transform=\"rotate(0, 164.156, 792.859)\" x=\"164.156\" y=\"792.859\">0.50</text>\n",
       "</g>\n",
       "<g clip-path=\"url(#clip1901)\">\n",
       "<text style=\"fill:#000000; fill-opacity:1; font-family:Arial,Helvetica Neue,Helvetica,sans-serif; font-size:48px; text-anchor:end;\" transform=\"rotate(0, 164.156, 449.409)\" x=\"164.156\" y=\"449.409\">0.75</text>\n",
       "</g>\n",
       "<g clip-path=\"url(#clip1901)\">\n",
       "<text style=\"fill:#000000; fill-opacity:1; font-family:Arial,Helvetica Neue,Helvetica,sans-serif; font-size:48px; text-anchor:end;\" transform=\"rotate(0, 164.156, 105.958)\" x=\"164.156\" y=\"105.958\">1.00</text>\n",
       "</g>\n",
       "<polyline clip-path=\"url(#clip1903)\" style=\"stroke:#009af9; stroke-width:4; stroke-opacity:1; fill:none\" points=\"\n",
       "  248.527,1462.26 449.763,1448.52 651,1407.31 852.236,1338.62 1053.47,1242.45 1254.71,1118.81 1455.94,967.692 1657.18,789.097 1858.42,583.027 2059.65,349.481 \n",
       "  2260.89,88.4582 \n",
       "  \"/>\n",
       "<polyline clip-path=\"url(#clip1903)\" style=\"stroke:#e26f46; stroke-width:4; stroke-opacity:1; fill:none\" points=\"\n",
       "  248.527,1462.26 449.763,1461.8 651,1458.6 852.236,1449.9 1053.47,1432.95 1254.71,1405.02 1455.94,1363.35 1657.18,1305.19 1858.42,1227.8 2059.65,1128.43 \n",
       "  2260.89,1004.33 \n",
       "  \"/>\n",
       "<polygon clip-path=\"url(#clip1901)\" points=\"\n",
       "1945.05,312.204 2249.26,312.204 2249.26,130.764 1945.05,130.764 \n",
       "  \" fill=\"#ffffff\" fill-opacity=\"1\"/>\n",
       "<polyline clip-path=\"url(#clip1901)\" style=\"stroke:#000000; stroke-width:4; stroke-opacity:1; fill:none\" points=\"\n",
       "  1945.05,312.204 2249.26,312.204 2249.26,130.764 1945.05,130.764 1945.05,312.204 \n",
       "  \"/>\n",
       "<polyline clip-path=\"url(#clip1901)\" style=\"stroke:#009af9; stroke-width:4; stroke-opacity:1; fill:none\" points=\"\n",
       "  1969.05,191.244 2113.05,191.244 \n",
       "  \"/>\n",
       "<g clip-path=\"url(#clip1901)\">\n",
       "<text style=\"fill:#000000; fill-opacity:1; font-family:Arial,Helvetica Neue,Helvetica,sans-serif; font-size:48px; text-anchor:start;\" transform=\"rotate(0, 2137.05, 208.744)\" x=\"2137.05\" y=\"208.744\">f</text>\n",
       "</g>\n",
       "<polyline clip-path=\"url(#clip1901)\" style=\"stroke:#e26f46; stroke-width:4; stroke-opacity:1; fill:none\" points=\"\n",
       "  1969.05,251.724 2113.05,251.724 \n",
       "  \"/>\n",
       "<g clip-path=\"url(#clip1901)\">\n",
       "<text style=\"fill:#000000; fill-opacity:1; font-family:Arial,Helvetica Neue,Helvetica,sans-serif; font-size:48px; text-anchor:start;\" transform=\"rotate(0, 2137.05, 269.224)\" x=\"2137.05\" y=\"269.224\">intf</text>\n",
       "</g>\n",
       "</svg>\n"
      ]
     },
     "execution_count": 29,
     "metadata": {},
     "output_type": "execute_result"
    }
   ],
   "source": [
    "using QuadGK\n",
    "const integrate = quadgk  # example of setting an alias\n",
    "f(x) = x^2\n",
    "@show integrate(f, 0.0, 1.0)  # integral\n",
    "\n",
    "function plotfunctions(f)\n",
    "    intf(x) = integrate(f, 0.0, x)[1]  # int_0^x f(x) dx\n",
    "\n",
    "    x = 0:0.1:1.0\n",
    "    f_x = f.(x)\n",
    "    plot(x, f_x, label=\"f\")\n",
    "    plot!(x, intf.(x), label=\"intf\")\n",
    "end\n",
    "plotfunctions(f)  # call with our f"
   ]
  },
  {
   "cell_type": "markdown",
   "metadata": {},
   "source": [
    "Of course, polynomials are also functions in every important sense"
   ]
  },
  {
   "cell_type": "code",
   "execution_count": 30,
   "metadata": {},
   "outputs": [
    {
     "name": "stdout",
     "output_type": "stream",
     "text": [
      "p = Poly(2 - 5*x + 2*x^2)\n",
      "p(1.0) = -1.0\n"
     ]
    },
    {
     "data": {
      "image/svg+xml": [
       "<?xml version=\"1.0\" encoding=\"utf-8\"?>\n",
       "<svg xmlns=\"http://www.w3.org/2000/svg\" xmlns:xlink=\"http://www.w3.org/1999/xlink\" width=\"600\" height=\"400\" viewBox=\"0 0 2400 1600\">\n",
       "<defs>\n",
       "  <clipPath id=\"clip2100\">\n",
       "    <rect x=\"0\" y=\"0\" width=\"2000\" height=\"2000\"/>\n",
       "  </clipPath>\n",
       "</defs>\n",
       "<defs>\n",
       "  <clipPath id=\"clip2101\">\n",
       "    <rect x=\"0\" y=\"0\" width=\"2400\" height=\"1600\"/>\n",
       "  </clipPath>\n",
       "</defs>\n",
       "<polygon clip-path=\"url(#clip2101)\" points=\"\n",
       "0,1600 2400,1600 2400,0 0,0 \n",
       "  \" fill=\"#ffffff\" fill-opacity=\"1\"/>\n",
       "<defs>\n",
       "  <clipPath id=\"clip2102\">\n",
       "    <rect x=\"480\" y=\"0\" width=\"1681\" height=\"1600\"/>\n",
       "  </clipPath>\n",
       "</defs>\n",
       "<polygon clip-path=\"url(#clip2101)\" points=\"\n",
       "149.361,1503.47 2321.26,1503.47 2321.26,47.2441 149.361,47.2441 \n",
       "  \" fill=\"#ffffff\" fill-opacity=\"1\"/>\n",
       "<defs>\n",
       "  <clipPath id=\"clip2103\">\n",
       "    <rect x=\"149\" y=\"47\" width=\"2173\" height=\"1457\"/>\n",
       "  </clipPath>\n",
       "</defs>\n",
       "<polyline clip-path=\"url(#clip2103)\" style=\"stroke:#000000; stroke-width:2; stroke-opacity:0.1; fill:none\" points=\"\n",
       "  210.829,1503.47 210.829,47.2441 \n",
       "  \"/>\n",
       "<polyline clip-path=\"url(#clip2103)\" style=\"stroke:#000000; stroke-width:2; stroke-opacity:0.1; fill:none\" points=\"\n",
       "  723.07,1503.47 723.07,47.2441 \n",
       "  \"/>\n",
       "<polyline clip-path=\"url(#clip2103)\" style=\"stroke:#000000; stroke-width:2; stroke-opacity:0.1; fill:none\" points=\"\n",
       "  1235.31,1503.47 1235.31,47.2441 \n",
       "  \"/>\n",
       "<polyline clip-path=\"url(#clip2103)\" style=\"stroke:#000000; stroke-width:2; stroke-opacity:0.1; fill:none\" points=\"\n",
       "  1747.55,1503.47 1747.55,47.2441 \n",
       "  \"/>\n",
       "<polyline clip-path=\"url(#clip2103)\" style=\"stroke:#000000; stroke-width:2; stroke-opacity:0.1; fill:none\" points=\"\n",
       "  2259.79,1503.47 2259.79,47.2441 \n",
       "  \"/>\n",
       "<polyline clip-path=\"url(#clip2103)\" style=\"stroke:#000000; stroke-width:2; stroke-opacity:0.1; fill:none\" points=\"\n",
       "  149.361,1462.26 2321.26,1462.26 \n",
       "  \"/>\n",
       "<polyline clip-path=\"url(#clip2103)\" style=\"stroke:#000000; stroke-width:2; stroke-opacity:0.1; fill:none\" points=\"\n",
       "  149.361,1004.33 2321.26,1004.33 \n",
       "  \"/>\n",
       "<polyline clip-path=\"url(#clip2103)\" style=\"stroke:#000000; stroke-width:2; stroke-opacity:0.1; fill:none\" points=\"\n",
       "  149.361,546.392 2321.26,546.392 \n",
       "  \"/>\n",
       "<polyline clip-path=\"url(#clip2103)\" style=\"stroke:#000000; stroke-width:2; stroke-opacity:0.1; fill:none\" points=\"\n",
       "  149.361,88.4582 2321.26,88.4582 \n",
       "  \"/>\n",
       "<polyline clip-path=\"url(#clip2101)\" style=\"stroke:#000000; stroke-width:4; stroke-opacity:1; fill:none\" points=\"\n",
       "  149.361,1503.47 2321.26,1503.47 \n",
       "  \"/>\n",
       "<polyline clip-path=\"url(#clip2101)\" style=\"stroke:#000000; stroke-width:4; stroke-opacity:1; fill:none\" points=\"\n",
       "  149.361,1503.47 149.361,47.2441 \n",
       "  \"/>\n",
       "<polyline clip-path=\"url(#clip2101)\" style=\"stroke:#000000; stroke-width:4; stroke-opacity:1; fill:none\" points=\"\n",
       "  210.829,1503.47 210.829,1481.63 \n",
       "  \"/>\n",
       "<polyline clip-path=\"url(#clip2101)\" style=\"stroke:#000000; stroke-width:4; stroke-opacity:1; fill:none\" points=\"\n",
       "  723.07,1503.47 723.07,1481.63 \n",
       "  \"/>\n",
       "<polyline clip-path=\"url(#clip2101)\" style=\"stroke:#000000; stroke-width:4; stroke-opacity:1; fill:none\" points=\"\n",
       "  1235.31,1503.47 1235.31,1481.63 \n",
       "  \"/>\n",
       "<polyline clip-path=\"url(#clip2101)\" style=\"stroke:#000000; stroke-width:4; stroke-opacity:1; fill:none\" points=\"\n",
       "  1747.55,1503.47 1747.55,1481.63 \n",
       "  \"/>\n",
       "<polyline clip-path=\"url(#clip2101)\" style=\"stroke:#000000; stroke-width:4; stroke-opacity:1; fill:none\" points=\"\n",
       "  2259.79,1503.47 2259.79,1481.63 \n",
       "  \"/>\n",
       "<polyline clip-path=\"url(#clip2101)\" style=\"stroke:#000000; stroke-width:4; stroke-opacity:1; fill:none\" points=\"\n",
       "  149.361,1462.26 181.939,1462.26 \n",
       "  \"/>\n",
       "<polyline clip-path=\"url(#clip2101)\" style=\"stroke:#000000; stroke-width:4; stroke-opacity:1; fill:none\" points=\"\n",
       "  149.361,1004.33 181.939,1004.33 \n",
       "  \"/>\n",
       "<polyline clip-path=\"url(#clip2101)\" style=\"stroke:#000000; stroke-width:4; stroke-opacity:1; fill:none\" points=\"\n",
       "  149.361,546.392 181.939,546.392 \n",
       "  \"/>\n",
       "<polyline clip-path=\"url(#clip2101)\" style=\"stroke:#000000; stroke-width:4; stroke-opacity:1; fill:none\" points=\"\n",
       "  149.361,88.4582 181.939,88.4582 \n",
       "  \"/>\n",
       "<g clip-path=\"url(#clip2101)\">\n",
       "<text style=\"fill:#000000; fill-opacity:1; font-family:Arial,Helvetica Neue,Helvetica,sans-serif; font-size:48px; text-anchor:middle;\" transform=\"rotate(0, 210.829, 1557.47)\" x=\"210.829\" y=\"1557.47\">0.00</text>\n",
       "</g>\n",
       "<g clip-path=\"url(#clip2101)\">\n",
       "<text style=\"fill:#000000; fill-opacity:1; font-family:Arial,Helvetica Neue,Helvetica,sans-serif; font-size:48px; text-anchor:middle;\" transform=\"rotate(0, 723.07, 1557.47)\" x=\"723.07\" y=\"1557.47\">0.25</text>\n",
       "</g>\n",
       "<g clip-path=\"url(#clip2101)\">\n",
       "<text style=\"fill:#000000; fill-opacity:1; font-family:Arial,Helvetica Neue,Helvetica,sans-serif; font-size:48px; text-anchor:middle;\" transform=\"rotate(0, 1235.31, 1557.47)\" x=\"1235.31\" y=\"1557.47\">0.50</text>\n",
       "</g>\n",
       "<g clip-path=\"url(#clip2101)\">\n",
       "<text style=\"fill:#000000; fill-opacity:1; font-family:Arial,Helvetica Neue,Helvetica,sans-serif; font-size:48px; text-anchor:middle;\" transform=\"rotate(0, 1747.55, 1557.47)\" x=\"1747.55\" y=\"1557.47\">0.75</text>\n",
       "</g>\n",
       "<g clip-path=\"url(#clip2101)\">\n",
       "<text style=\"fill:#000000; fill-opacity:1; font-family:Arial,Helvetica Neue,Helvetica,sans-serif; font-size:48px; text-anchor:middle;\" transform=\"rotate(0, 2259.79, 1557.47)\" x=\"2259.79\" y=\"1557.47\">1.00</text>\n",
       "</g>\n",
       "<g clip-path=\"url(#clip2101)\">\n",
       "<text style=\"fill:#000000; fill-opacity:1; font-family:Arial,Helvetica Neue,Helvetica,sans-serif; font-size:48px; text-anchor:end;\" transform=\"rotate(0, 125.361, 1479.76)\" x=\"125.361\" y=\"1479.76\">-1</text>\n",
       "</g>\n",
       "<g clip-path=\"url(#clip2101)\">\n",
       "<text style=\"fill:#000000; fill-opacity:1; font-family:Arial,Helvetica Neue,Helvetica,sans-serif; font-size:48px; text-anchor:end;\" transform=\"rotate(0, 125.361, 1021.83)\" x=\"125.361\" y=\"1021.83\">0</text>\n",
       "</g>\n",
       "<g clip-path=\"url(#clip2101)\">\n",
       "<text style=\"fill:#000000; fill-opacity:1; font-family:Arial,Helvetica Neue,Helvetica,sans-serif; font-size:48px; text-anchor:end;\" transform=\"rotate(0, 125.361, 563.892)\" x=\"125.361\" y=\"563.892\">1</text>\n",
       "</g>\n",
       "<g clip-path=\"url(#clip2101)\">\n",
       "<text style=\"fill:#000000; fill-opacity:1; font-family:Arial,Helvetica Neue,Helvetica,sans-serif; font-size:48px; text-anchor:end;\" transform=\"rotate(0, 125.361, 105.958)\" x=\"125.361\" y=\"105.958\">2</text>\n",
       "</g>\n",
       "<polyline clip-path=\"url(#clip2103)\" style=\"stroke:#009af9; stroke-width:4; stroke-opacity:1; fill:none\" points=\"\n",
       "  210.829,88.4582 415.726,308.267 620.622,509.758 825.518,692.931 1030.41,857.788 1235.31,1004.33 1440.21,1132.55 1645.1,1242.45 1850,1334.04 2054.89,1407.31 \n",
       "  2259.79,1462.26 \n",
       "  \"/>\n",
       "<polyline clip-path=\"url(#clip2103)\" style=\"stroke:#e26f46; stroke-width:4; stroke-opacity:1; fill:none\" points=\"\n",
       "  210.829,1004.33 415.726,923.883 620.622,864.504 825.518,824.358 1030.41,801.614 1235.31,794.44 1440.21,801.004 1645.1,819.474 1850,848.018 2054.89,884.806 \n",
       "  2259.79,928.004 \n",
       "  \"/>\n",
       "<polygon clip-path=\"url(#clip2101)\" points=\"\n",
       "1945.05,312.204 2249.26,312.204 2249.26,130.764 1945.05,130.764 \n",
       "  \" fill=\"#ffffff\" fill-opacity=\"1\"/>\n",
       "<polyline clip-path=\"url(#clip2101)\" style=\"stroke:#000000; stroke-width:4; stroke-opacity:1; fill:none\" points=\"\n",
       "  1945.05,312.204 2249.26,312.204 2249.26,130.764 1945.05,130.764 1945.05,312.204 \n",
       "  \"/>\n",
       "<polyline clip-path=\"url(#clip2101)\" style=\"stroke:#009af9; stroke-width:4; stroke-opacity:1; fill:none\" points=\"\n",
       "  1969.05,191.244 2113.05,191.244 \n",
       "  \"/>\n",
       "<g clip-path=\"url(#clip2101)\">\n",
       "<text style=\"fill:#000000; fill-opacity:1; font-family:Arial,Helvetica Neue,Helvetica,sans-serif; font-size:48px; text-anchor:start;\" transform=\"rotate(0, 2137.05, 208.744)\" x=\"2137.05\" y=\"208.744\">f</text>\n",
       "</g>\n",
       "<polyline clip-path=\"url(#clip2101)\" style=\"stroke:#e26f46; stroke-width:4; stroke-opacity:1; fill:none\" points=\"\n",
       "  1969.05,251.724 2113.05,251.724 \n",
       "  \"/>\n",
       "<g clip-path=\"url(#clip2101)\">\n",
       "<text style=\"fill:#000000; fill-opacity:1; font-family:Arial,Helvetica Neue,Helvetica,sans-serif; font-size:48px; text-anchor:start;\" transform=\"rotate(0, 2137.05, 269.224)\" x=\"2137.05\" y=\"269.224\">intf</text>\n",
       "</g>\n",
       "</svg>\n"
      ]
     },
     "execution_count": 30,
     "metadata": {},
     "output_type": "execute_result"
    }
   ],
   "source": [
    "using Polynomials\n",
    "p = Poly([2, -5, 2], :x)  # :x just gives a symbol for display\n",
    "@show p\n",
    "@show p(1.0) # call like a function\n",
    "\n",
    "plotfunctions(p)  # same generic function"
   ]
  },
  {
   "cell_type": "markdown",
   "metadata": {},
   "source": [
    "Or Interpolations"
   ]
  },
  {
   "cell_type": "code",
   "execution_count": 31,
   "metadata": {},
   "outputs": [
    {
     "name": "stdout",
     "output_type": "stream",
     "text": [
      "f_int(1.0) = 1.0\n"
     ]
    },
    {
     "data": {
      "image/svg+xml": [
       "<?xml version=\"1.0\" encoding=\"utf-8\"?>\n",
       "<svg xmlns=\"http://www.w3.org/2000/svg\" xmlns:xlink=\"http://www.w3.org/1999/xlink\" width=\"600\" height=\"400\" viewBox=\"0 0 2400 1600\">\n",
       "<defs>\n",
       "  <clipPath id=\"clip2300\">\n",
       "    <rect x=\"0\" y=\"0\" width=\"2000\" height=\"2000\"/>\n",
       "  </clipPath>\n",
       "</defs>\n",
       "<defs>\n",
       "  <clipPath id=\"clip2301\">\n",
       "    <rect x=\"0\" y=\"0\" width=\"2400\" height=\"1600\"/>\n",
       "  </clipPath>\n",
       "</defs>\n",
       "<polygon clip-path=\"url(#clip2301)\" points=\"\n",
       "0,1600 2400,1600 2400,0 0,0 \n",
       "  \" fill=\"#ffffff\" fill-opacity=\"1\"/>\n",
       "<defs>\n",
       "  <clipPath id=\"clip2302\">\n",
       "    <rect x=\"480\" y=\"0\" width=\"1681\" height=\"1600\"/>\n",
       "  </clipPath>\n",
       "</defs>\n",
       "<polygon clip-path=\"url(#clip2301)\" points=\"\n",
       "188.156,1503.47 2321.26,1503.47 2321.26,47.2441 188.156,47.2441 \n",
       "  \" fill=\"#ffffff\" fill-opacity=\"1\"/>\n",
       "<defs>\n",
       "  <clipPath id=\"clip2303\">\n",
       "    <rect x=\"188\" y=\"47\" width=\"2134\" height=\"1457\"/>\n",
       "  </clipPath>\n",
       "</defs>\n",
       "<polyline clip-path=\"url(#clip2303)\" style=\"stroke:#000000; stroke-width:2; stroke-opacity:0.1; fill:none\" points=\"\n",
       "  248.527,1503.47 248.527,47.2441 \n",
       "  \"/>\n",
       "<polyline clip-path=\"url(#clip2303)\" style=\"stroke:#000000; stroke-width:2; stroke-opacity:0.1; fill:none\" points=\"\n",
       "  751.618,1503.47 751.618,47.2441 \n",
       "  \"/>\n",
       "<polyline clip-path=\"url(#clip2303)\" style=\"stroke:#000000; stroke-width:2; stroke-opacity:0.1; fill:none\" points=\"\n",
       "  1254.71,1503.47 1254.71,47.2441 \n",
       "  \"/>\n",
       "<polyline clip-path=\"url(#clip2303)\" style=\"stroke:#000000; stroke-width:2; stroke-opacity:0.1; fill:none\" points=\"\n",
       "  1757.8,1503.47 1757.8,47.2441 \n",
       "  \"/>\n",
       "<polyline clip-path=\"url(#clip2303)\" style=\"stroke:#000000; stroke-width:2; stroke-opacity:0.1; fill:none\" points=\"\n",
       "  2260.89,1503.47 2260.89,47.2441 \n",
       "  \"/>\n",
       "<polyline clip-path=\"url(#clip2303)\" style=\"stroke:#000000; stroke-width:2; stroke-opacity:0.1; fill:none\" points=\"\n",
       "  188.156,1462.26 2321.26,1462.26 \n",
       "  \"/>\n",
       "<polyline clip-path=\"url(#clip2303)\" style=\"stroke:#000000; stroke-width:2; stroke-opacity:0.1; fill:none\" points=\"\n",
       "  188.156,1118.81 2321.26,1118.81 \n",
       "  \"/>\n",
       "<polyline clip-path=\"url(#clip2303)\" style=\"stroke:#000000; stroke-width:2; stroke-opacity:0.1; fill:none\" points=\"\n",
       "  188.156,775.359 2321.26,775.359 \n",
       "  \"/>\n",
       "<polyline clip-path=\"url(#clip2303)\" style=\"stroke:#000000; stroke-width:2; stroke-opacity:0.1; fill:none\" points=\"\n",
       "  188.156,431.909 2321.26,431.909 \n",
       "  \"/>\n",
       "<polyline clip-path=\"url(#clip2303)\" style=\"stroke:#000000; stroke-width:2; stroke-opacity:0.1; fill:none\" points=\"\n",
       "  188.156,88.4582 2321.26,88.4582 \n",
       "  \"/>\n",
       "<polyline clip-path=\"url(#clip2301)\" style=\"stroke:#000000; stroke-width:4; stroke-opacity:1; fill:none\" points=\"\n",
       "  188.156,1503.47 2321.26,1503.47 \n",
       "  \"/>\n",
       "<polyline clip-path=\"url(#clip2301)\" style=\"stroke:#000000; stroke-width:4; stroke-opacity:1; fill:none\" points=\"\n",
       "  188.156,1503.47 188.156,47.2441 \n",
       "  \"/>\n",
       "<polyline clip-path=\"url(#clip2301)\" style=\"stroke:#000000; stroke-width:4; stroke-opacity:1; fill:none\" points=\"\n",
       "  248.527,1503.47 248.527,1481.63 \n",
       "  \"/>\n",
       "<polyline clip-path=\"url(#clip2301)\" style=\"stroke:#000000; stroke-width:4; stroke-opacity:1; fill:none\" points=\"\n",
       "  751.618,1503.47 751.618,1481.63 \n",
       "  \"/>\n",
       "<polyline clip-path=\"url(#clip2301)\" style=\"stroke:#000000; stroke-width:4; stroke-opacity:1; fill:none\" points=\"\n",
       "  1254.71,1503.47 1254.71,1481.63 \n",
       "  \"/>\n",
       "<polyline clip-path=\"url(#clip2301)\" style=\"stroke:#000000; stroke-width:4; stroke-opacity:1; fill:none\" points=\"\n",
       "  1757.8,1503.47 1757.8,1481.63 \n",
       "  \"/>\n",
       "<polyline clip-path=\"url(#clip2301)\" style=\"stroke:#000000; stroke-width:4; stroke-opacity:1; fill:none\" points=\"\n",
       "  2260.89,1503.47 2260.89,1481.63 \n",
       "  \"/>\n",
       "<polyline clip-path=\"url(#clip2301)\" style=\"stroke:#000000; stroke-width:4; stroke-opacity:1; fill:none\" points=\"\n",
       "  188.156,1462.26 220.153,1462.26 \n",
       "  \"/>\n",
       "<polyline clip-path=\"url(#clip2301)\" style=\"stroke:#000000; stroke-width:4; stroke-opacity:1; fill:none\" points=\"\n",
       "  188.156,1118.81 220.153,1118.81 \n",
       "  \"/>\n",
       "<polyline clip-path=\"url(#clip2301)\" style=\"stroke:#000000; stroke-width:4; stroke-opacity:1; fill:none\" points=\"\n",
       "  188.156,775.359 220.153,775.359 \n",
       "  \"/>\n",
       "<polyline clip-path=\"url(#clip2301)\" style=\"stroke:#000000; stroke-width:4; stroke-opacity:1; fill:none\" points=\"\n",
       "  188.156,431.909 220.153,431.909 \n",
       "  \"/>\n",
       "<polyline clip-path=\"url(#clip2301)\" style=\"stroke:#000000; stroke-width:4; stroke-opacity:1; fill:none\" points=\"\n",
       "  188.156,88.4582 220.153,88.4582 \n",
       "  \"/>\n",
       "<g clip-path=\"url(#clip2301)\">\n",
       "<text style=\"fill:#000000; fill-opacity:1; font-family:Arial,Helvetica Neue,Helvetica,sans-serif; font-size:48px; text-anchor:middle;\" transform=\"rotate(0, 248.527, 1557.47)\" x=\"248.527\" y=\"1557.47\">0.00</text>\n",
       "</g>\n",
       "<g clip-path=\"url(#clip2301)\">\n",
       "<text style=\"fill:#000000; fill-opacity:1; font-family:Arial,Helvetica Neue,Helvetica,sans-serif; font-size:48px; text-anchor:middle;\" transform=\"rotate(0, 751.618, 1557.47)\" x=\"751.618\" y=\"1557.47\">0.25</text>\n",
       "</g>\n",
       "<g clip-path=\"url(#clip2301)\">\n",
       "<text style=\"fill:#000000; fill-opacity:1; font-family:Arial,Helvetica Neue,Helvetica,sans-serif; font-size:48px; text-anchor:middle;\" transform=\"rotate(0, 1254.71, 1557.47)\" x=\"1254.71\" y=\"1557.47\">0.50</text>\n",
       "</g>\n",
       "<g clip-path=\"url(#clip2301)\">\n",
       "<text style=\"fill:#000000; fill-opacity:1; font-family:Arial,Helvetica Neue,Helvetica,sans-serif; font-size:48px; text-anchor:middle;\" transform=\"rotate(0, 1757.8, 1557.47)\" x=\"1757.8\" y=\"1557.47\">0.75</text>\n",
       "</g>\n",
       "<g clip-path=\"url(#clip2301)\">\n",
       "<text style=\"fill:#000000; fill-opacity:1; font-family:Arial,Helvetica Neue,Helvetica,sans-serif; font-size:48px; text-anchor:middle;\" transform=\"rotate(0, 2260.89, 1557.47)\" x=\"2260.89\" y=\"1557.47\">1.00</text>\n",
       "</g>\n",
       "<g clip-path=\"url(#clip2301)\">\n",
       "<text style=\"fill:#000000; fill-opacity:1; font-family:Arial,Helvetica Neue,Helvetica,sans-serif; font-size:48px; text-anchor:end;\" transform=\"rotate(0, 164.156, 1479.76)\" x=\"164.156\" y=\"1479.76\">0.00</text>\n",
       "</g>\n",
       "<g clip-path=\"url(#clip2301)\">\n",
       "<text style=\"fill:#000000; fill-opacity:1; font-family:Arial,Helvetica Neue,Helvetica,sans-serif; font-size:48px; text-anchor:end;\" transform=\"rotate(0, 164.156, 1136.31)\" x=\"164.156\" y=\"1136.31\">0.25</text>\n",
       "</g>\n",
       "<g clip-path=\"url(#clip2301)\">\n",
       "<text style=\"fill:#000000; fill-opacity:1; font-family:Arial,Helvetica Neue,Helvetica,sans-serif; font-size:48px; text-anchor:end;\" transform=\"rotate(0, 164.156, 792.859)\" x=\"164.156\" y=\"792.859\">0.50</text>\n",
       "</g>\n",
       "<g clip-path=\"url(#clip2301)\">\n",
       "<text style=\"fill:#000000; fill-opacity:1; font-family:Arial,Helvetica Neue,Helvetica,sans-serif; font-size:48px; text-anchor:end;\" transform=\"rotate(0, 164.156, 449.409)\" x=\"164.156\" y=\"449.409\">0.75</text>\n",
       "</g>\n",
       "<g clip-path=\"url(#clip2301)\">\n",
       "<text style=\"fill:#000000; fill-opacity:1; font-family:Arial,Helvetica Neue,Helvetica,sans-serif; font-size:48px; text-anchor:end;\" transform=\"rotate(0, 164.156, 105.958)\" x=\"164.156\" y=\"105.958\">1.00</text>\n",
       "</g>\n",
       "<polyline clip-path=\"url(#clip2303)\" style=\"stroke:#009af9; stroke-width:4; stroke-opacity:1; fill:none\" points=\"\n",
       "  248.527,1462.26 449.763,1434.78 651,1407.31 852.236,1324.88 1053.47,1242.45 1254.71,1105.07 1455.94,967.692 1657.18,775.359 1858.42,583.027 2059.65,335.743 \n",
       "  2260.89,88.4582 \n",
       "  \"/>\n",
       "<polyline clip-path=\"url(#clip2303)\" style=\"stroke:#e26f46; stroke-width:4; stroke-opacity:1; fill:none\" points=\"\n",
       "  248.527,1462.26 449.763,1460.89 651,1456.77 852.236,1447.15 1053.47,1429.29 1254.71,1400.44 1455.94,1357.85 1657.18,1298.78 1858.42,1220.47 2059.65,1120.18 \n",
       "  2260.89,995.168 \n",
       "  \"/>\n",
       "<polygon clip-path=\"url(#clip2301)\" points=\"\n",
       "1945.05,312.204 2249.26,312.204 2249.26,130.764 1945.05,130.764 \n",
       "  \" fill=\"#ffffff\" fill-opacity=\"1\"/>\n",
       "<polyline clip-path=\"url(#clip2301)\" style=\"stroke:#000000; stroke-width:4; stroke-opacity:1; fill:none\" points=\"\n",
       "  1945.05,312.204 2249.26,312.204 2249.26,130.764 1945.05,130.764 1945.05,312.204 \n",
       "  \"/>\n",
       "<polyline clip-path=\"url(#clip2301)\" style=\"stroke:#009af9; stroke-width:4; stroke-opacity:1; fill:none\" points=\"\n",
       "  1969.05,191.244 2113.05,191.244 \n",
       "  \"/>\n",
       "<g clip-path=\"url(#clip2301)\">\n",
       "<text style=\"fill:#000000; fill-opacity:1; font-family:Arial,Helvetica Neue,Helvetica,sans-serif; font-size:48px; text-anchor:start;\" transform=\"rotate(0, 2137.05, 208.744)\" x=\"2137.05\" y=\"208.744\">f</text>\n",
       "</g>\n",
       "<polyline clip-path=\"url(#clip2301)\" style=\"stroke:#e26f46; stroke-width:4; stroke-opacity:1; fill:none\" points=\"\n",
       "  1969.05,251.724 2113.05,251.724 \n",
       "  \"/>\n",
       "<g clip-path=\"url(#clip2301)\">\n",
       "<text style=\"fill:#000000; fill-opacity:1; font-family:Arial,Helvetica Neue,Helvetica,sans-serif; font-size:48px; text-anchor:start;\" transform=\"rotate(0, 2137.05, 269.224)\" x=\"2137.05\" y=\"269.224\">intf</text>\n",
       "</g>\n",
       "</svg>\n"
      ]
     },
     "execution_count": 31,
     "metadata": {},
     "output_type": "execute_result"
    }
   ],
   "source": [
    "using Interpolations\n",
    "x = 0.0:0.2:1.0\n",
    "f(x) = x^2\n",
    "f_int = LinearInterpolation(x, f.(x))  # interpolating those points\n",
    "@show f_int(1.0)  # call like a function\n",
    "\n",
    "plotfunctions(f_int)  # same generic function"
   ]
  },
  {
   "cell_type": "markdown",
   "metadata": {},
   "source": [
    "Note that the same generic `plotfunctions` could use any variable passed to it that “looks” like a function, i.e. can call `f(x)`\n",
    "\n",
    "This sort of typing and design–generic but without any declarations–is usually called [duck typing](https://en.wikipedia.org/wiki/Duck_typing)\n",
    "\n",
    "If you need to make an existing type callable, see [Function Like Objects](https://docs.julialang.org/en/v1/manual/methods/#Function-like-objects-1)"
   ]
  },
  {
   "cell_type": "markdown",
   "metadata": {},
   "source": [
    "## Limitations of Dispatching on Abstract Types\n",
    "\n",
    "You will notice that types in Julia represent a tree with `Any` at the root\n",
    "\n",
    "The tree structure has worked well for the above examples, but it doesn’t allow us to associate multiple categorizations of types\n",
    "\n",
    "For example, a semi-group type would be very useful for a writing generic code (e.g. continuous-time solutions for ODEs and matrix-free methods) but cannot be implemented rigorously since the `Matrix` type is a semi-group, but it is also an `AbstractArray`\n",
    "\n",
    "The main way to implement this in a generic language is with a feature called traits\n",
    "\n",
    "See the [original discussion](https://github.com/JuliaLang/julia/issues/2345#issuecomment-54537633) and an [example of a package to facilitate the pattern](https://github.com/mauro3/SimpleTraits.jl)\n",
    "\n",
    "A complete description of the Traits patterns as the natural evolution of Multiple Dispatch is given in this [blog post](https://white.ucc.asn.au/2018/10/03/Dispatch,-Traits-and-Metaprogramming-Over-Reflection.html)"
   ]
  },
  {
   "cell_type": "markdown",
   "metadata": {},
   "source": [
    "## Understanding Multiple Dispatch in Julia\n",
    "\n",
    "This section provides more background on how methods, functions, and types are connected"
   ]
  },
  {
   "cell_type": "markdown",
   "metadata": {},
   "source": [
    "### Methods and Functions\n",
    "\n",
    "The precise data type is important, for reasons of both efficiency and mathematical correctness\n",
    "\n",
    "For example consider 1 + 1 vs. 1.0 + 1.0 or [1 0] + [0 1]\n",
    "\n",
    "On a CPU, integer and floating point addition are different things, using a different set of instructions\n",
    "\n",
    "Julia handles this problem by storing multiple, specialized versions of functions like addition, one for each data type or set of data types\n",
    "\n",
    "These individual specialized versions are called **methods**\n",
    "\n",
    "When an operation like addition is requested, the Julia compiler inspects the type of data to be acted on and hands it out to the appropriate method\n",
    "\n",
    "This process is called **multiple dispatch**\n",
    "\n",
    "Like all “infix” operators, 1 + 1 has the alternative syntax +(1, 1)"
   ]
  },
  {
   "cell_type": "code",
   "execution_count": 32,
   "metadata": {},
   "outputs": [
    {
     "data": {
      "text/plain": [
       "2"
      ]
     },
     "execution_count": 32,
     "metadata": {},
     "output_type": "execute_result"
    }
   ],
   "source": [
    "+(1, 1)"
   ]
  },
  {
   "cell_type": "markdown",
   "metadata": {},
   "source": [
    "This operator + is itself a function with multiple methods\n",
    "\n",
    "We can investigate them using the @which macro, which shows the method to which a given call is dispatched"
   ]
  },
  {
   "cell_type": "code",
   "execution_count": 33,
   "metadata": {},
   "outputs": [
    {
     "data": {
      "text/html": [
       "+(x::<b>Float64</b>, y::<b>Float64</b>) in Base at <a href=\"https://github.com/JuliaLang/julia/tree/d789231e9985537686052db9b2314c0d51656308/base/float.jl#L395\" target=\"_blank\">float.jl:395</a>"
      ],
      "text/plain": [
       "+(x::Float64, y::Float64) in Base at float.jl:395"
      ]
     },
     "execution_count": 33,
     "metadata": {},
     "output_type": "execute_result"
    }
   ],
   "source": [
    "x, y = 1.0, 1.0\n",
    "@which +(x, y)"
   ]
  },
  {
   "cell_type": "markdown",
   "metadata": {},
   "source": [
    "We see that the operation is sent to the `+` method that specializes in adding\n",
    "floating point numbers\n",
    "\n",
    "Here’s the integer case"
   ]
  },
  {
   "cell_type": "code",
   "execution_count": 34,
   "metadata": {},
   "outputs": [
    {
     "data": {
      "text/html": [
       "+<i>{T<:Union{Int128, Int16, Int32, Int64, Int8, UInt128, UInt16, UInt32, UInt64, UInt8}}</i>(x::<b>T</b>, y::<b>T</b>) in Base at <a href=\"https://github.com/JuliaLang/julia/tree/d789231e9985537686052db9b2314c0d51656308/base/int.jl#L53\" target=\"_blank\">int.jl:53</a>"
      ],
      "text/plain": [
       "+(x::T, y::T) where T<:Union{Int128, Int16, Int32, Int64, Int8, UInt128, UInt16, UInt32, UInt64, UInt8} in Base at int.jl:53"
      ]
     },
     "execution_count": 34,
     "metadata": {},
     "output_type": "execute_result"
    }
   ],
   "source": [
    "x, y = 1, 1\n",
    "@which +(x, y)"
   ]
  },
  {
   "cell_type": "markdown",
   "metadata": {},
   "source": [
    "This output says that the call has been dispatched to the + method\n",
    "responsible for handling integer values\n",
    "\n",
    "(We’ll learn more about the details of this syntax below)\n",
    "\n",
    "Here’s another example, with complex numbers"
   ]
  },
  {
   "cell_type": "code",
   "execution_count": 35,
   "metadata": {},
   "outputs": [
    {
     "data": {
      "text/html": [
       "+(z::<b>Complex</b>, w::<b>Complex</b>) in Base at <a href=\"https://github.com/JuliaLang/julia/tree/d789231e9985537686052db9b2314c0d51656308/base/complex.jl#L266\" target=\"_blank\">complex.jl:266</a>"
      ],
      "text/plain": [
       "+(z::Complex, w::Complex) in Base at complex.jl:266"
      ]
     },
     "execution_count": 35,
     "metadata": {},
     "output_type": "execute_result"
    }
   ],
   "source": [
    "x, y = 1.0 + 1.0im, 1.0 + 1.0im\n",
    "@which +(x, y)"
   ]
  },
  {
   "cell_type": "markdown",
   "metadata": {},
   "source": [
    "Again, the call has been dispatched to a + method specifically designed for handling the given data type"
   ]
  },
  {
   "cell_type": "markdown",
   "metadata": {},
   "source": [
    "#### Adding Methods\n",
    "\n",
    "It’s straightforward to add methods to existing functions\n",
    "\n",
    "For example, we can’t at present add an integer and a string in Julia (i.e. `100 + \"100\"` is not valid syntax)\n",
    "\n",
    "This is sensible behavior, but if you want to change it there’s nothing to stop you:"
   ]
  },
  {
   "cell_type": "code",
   "execution_count": 36,
   "metadata": {},
   "outputs": [
    {
     "name": "stdout",
     "output_type": "stream",
     "text": [
      "100 + \"100\" = 200\n",
      "100 + \"100\" = 200\n"
     ]
    }
   ],
   "source": [
    "import Base: +  # enables extension of the + function\n",
    "\n",
    "+(x::Integer, y::String) = x + parse(Int, y)\n",
    "\n",
    "@show +(100, \"100\")\n",
    "@show 100 + \"100\";  # equivalent"
   ]
  },
  {
   "cell_type": "markdown",
   "metadata": {},
   "source": [
    "### Understanding the Compilation Process\n",
    "\n",
    "We can now be a little bit clearer about what happens when you call a function on given types\n",
    "\n",
    "Suppose we execute the function call `f(a, b)` where `a` and `b`\n",
    "are of concrete types `S` and `T` respectively\n",
    "\n",
    "The Julia interpreter first queries the types of `a` and `b` to obtain the tuple `(S, T)`\n",
    "\n",
    "It then parses the list of methods belonging to `f`, searching for a match\n",
    "\n",
    "If it finds a method matching `(S, T)` it calls that method\n",
    "\n",
    "If not, it looks to see whether the pair `(S, T)` matches any method defined for *immediate parent types*\n",
    "\n",
    "For example, if `S` is `Float64` and `T` is `ComplexF32` then the\n",
    "immediate parents are `AbstractFloat` and `Number` respectively"
   ]
  },
  {
   "cell_type": "code",
   "execution_count": 37,
   "metadata": {},
   "outputs": [
    {
     "data": {
      "text/plain": [
       "AbstractFloat"
      ]
     },
     "execution_count": 37,
     "metadata": {},
     "output_type": "execute_result"
    }
   ],
   "source": [
    "supertype(Float64)"
   ]
  },
  {
   "cell_type": "code",
   "execution_count": 38,
   "metadata": {},
   "outputs": [
    {
     "data": {
      "text/plain": [
       "Number"
      ]
     },
     "execution_count": 38,
     "metadata": {},
     "output_type": "execute_result"
    }
   ],
   "source": [
    "supertype(ComplexF32)"
   ]
  },
  {
   "cell_type": "markdown",
   "metadata": {},
   "source": [
    "Hence the interpreter looks next for a method of the form `f(x::AbstractFloat, y::Number)`\n",
    "\n",
    "If the interpreter can’t find a match in immediate parents (supertypes) it proceeds up the tree, looking at the parents of the last type it checked at each iteration\n",
    "\n",
    "- If it eventually finds a matching method it invokes that method  \n",
    "- If not, we get an error  \n",
    "\n",
    "\n",
    "This is the process that leads to the following error"
   ]
  },
  {
   "cell_type": "code",
   "execution_count": 39,
   "metadata": {},
   "outputs": [
    {
     "data": {
      "text/plain": [
       "200"
      ]
     },
     "execution_count": 39,
     "metadata": {},
     "output_type": "execute_result"
    }
   ],
   "source": [
    "+(100, \"100\")"
   ]
  },
  {
   "cell_type": "markdown",
   "metadata": {},
   "source": [
    "Because the dispatch procedure starts from concrete types and works upwards, dispatch always invokes the *most specific method* available\n",
    "\n",
    "For example, if you have methods for function `f` that handle\n",
    "\n",
    "1. `(Float64, Int64)` pairs  \n",
    "1. `(Number, Number)` pairs  \n",
    "\n",
    "\n",
    "and you call `f` with `f(0.5, 1)` then the first method will be invoked\n",
    "\n",
    "This makes sense because (hopefully) the first method is optimized for\n",
    "exactly this kind of data\n",
    "\n",
    "The second method is probably more of a “catch all” method that handles other\n",
    "data in a less optimal way\n",
    "\n",
    "Here’s another simple example, involving a user-defined function"
   ]
  },
  {
   "cell_type": "code",
   "execution_count": 40,
   "metadata": {},
   "outputs": [
    {
     "data": {
      "text/plain": [
       "genericf (generic function with 3 methods)"
      ]
     },
     "execution_count": 40,
     "metadata": {},
     "output_type": "execute_result"
    }
   ],
   "source": [
    "function genericf(x)  # or f(x::Any)\n",
    "    println(\"Default (Any) method invoked\")\n",
    "end\n",
    "\n",
    "function genericf(x::Number)\n",
    "    println(\"Number method invoked\")\n",
    "end\n",
    "\n",
    "function genericf(x::Integer)\n",
    "    println(\"Integer method invoked\")\n",
    "end"
   ]
  },
  {
   "cell_type": "markdown",
   "metadata": {},
   "source": [
    "Let’s now run this and see how it relates to our discussion of method dispatch\n",
    "above"
   ]
  },
  {
   "cell_type": "code",
   "execution_count": 41,
   "metadata": {},
   "outputs": [
    {
     "name": "stdout",
     "output_type": "stream",
     "text": [
      "Integer method invoked\n"
     ]
    }
   ],
   "source": [
    "genericf(3)"
   ]
  },
  {
   "cell_type": "code",
   "execution_count": 42,
   "metadata": {},
   "outputs": [
    {
     "name": "stdout",
     "output_type": "stream",
     "text": [
      "Number method invoked\n"
     ]
    }
   ],
   "source": [
    "genericf(3.0)"
   ]
  },
  {
   "cell_type": "code",
   "execution_count": 43,
   "metadata": {},
   "outputs": [
    {
     "name": "stdout",
     "output_type": "stream",
     "text": [
      "Default (Any) method invoked\n"
     ]
    }
   ],
   "source": [
    "genericf(\"foo\")"
   ]
  },
  {
   "cell_type": "markdown",
   "metadata": {},
   "source": [
    "Since `typeof(3) <: Int64 <: Integer <: Number`, the call `f(3)` proceeds up the tree to `Integer` and invokes `f(x::Integer)`\n",
    "\n",
    "On the other hand, `3.0` is a `Float64`, which is not a subtype of  `Integer`\n",
    "\n",
    "Hence the call `f(3.0)` continues up to `f(x::Number)`\n",
    "\n",
    "Finally, `f(\"foo\")` is handled by the most function operating on `Any`, since `String` is not a subtype of `Number` or `Integer`"
   ]
  },
  {
   "cell_type": "markdown",
   "metadata": {},
   "source": [
    "### Analyzing Function Return Types\n",
    "\n",
    "For the most part, time spent “optimizing” julia code to run faster is able ensuring the compiler can correctly deduce types for all functions\n",
    "\n",
    "We will discuss this in more detail in [this lecture](need_for_speed.html#), but the macro `@code_warntype` gives us a hint"
   ]
  },
  {
   "cell_type": "code",
   "execution_count": 44,
   "metadata": {},
   "outputs": [
    {
     "name": "stdout",
     "output_type": "stream",
     "text": [
      "Body\u001b[36m::Array{Int64,1}\u001b[39m\n",
      "\u001b[90m\u001b[74G│╻ *\u001b[1G\u001b[39m\u001b[90m2 \u001b[39m1 ─ %1 = invoke Base.broadcast(Base.:*::typeof(*), 2::Int64, _2::Array{Int64,1})\u001b[36m::Array{Int64,1}\u001b[39m\n",
      "\u001b[90m\u001b[74G│ \u001b[1G\u001b[39m\u001b[90m  \u001b[39m└──      return %1\n"
     ]
    }
   ],
   "source": [
    "x = [1, 2, 3]\n",
    "f(x) = 2x\n",
    "@code_warntype f(x)"
   ]
  },
  {
   "cell_type": "markdown",
   "metadata": {},
   "source": [
    "The `@code_warntype` macro compiles the `f(x)` using the type of `x` as an example–i.e., the `[1, 2, 3]` is used as a prototype for analyzing the compilation, rather than simply calculating the value\n",
    "\n",
    "Here, the `Body::Array{Int64,1}` tells us the type of the return value of the function when called with types like `[1, 2, 3]` is always a vector of integers\n",
    "\n",
    "In contrast, consider a function potentially returning `nothing`, as in [this lecture](fundamental_types.html#)"
   ]
  },
  {
   "cell_type": "code",
   "execution_count": 45,
   "metadata": {},
   "outputs": [
    {
     "name": "stdout",
     "output_type": "stream",
     "text": [
      "Body\u001b[33m\u001b[1m::Union{Nothing, Int64}\u001b[22m\u001b[39m\n",
      "\u001b[90m\u001b[59G│╻╷╷ >\u001b[1G\u001b[39m\u001b[90m1 \u001b[39m1 ─ %1 = (Base.sitofp)(Float64, x)\u001b[36m::Float64\u001b[39m\n",
      "\u001b[90m\u001b[59G││╻   <\u001b[1G\u001b[39m\u001b[90m  \u001b[39m│   %2 = (Base.lt_float)(0.0, %1)\u001b[36m::Bool\u001b[39m\n",
      "\u001b[90m\u001b[59G│││╻   ==\u001b[1G\u001b[39m\u001b[90m  \u001b[39m│   %3 = (Base.eq_float)(0.0, %1)\u001b[36m::Bool\u001b[39m\n",
      "\u001b[90m\u001b[59G│││╻   <\u001b[1G\u001b[39m\u001b[90m  \u001b[39m│   %4 = (Base.lt_float)(%1, 9.223372036854776e18)\u001b[36m::Bool\u001b[39m\n",
      "\u001b[90m\u001b[59G│││╻   &\u001b[1G\u001b[39m\u001b[90m  \u001b[39m│   %5 = (Base.and_int)(%3, %4)\u001b[36m::Bool\u001b[39m\n",
      "\u001b[90m\u001b[59G│││╻   unsafe_trunc\u001b[1G\u001b[39m\u001b[90m  \u001b[39m│   %6 = (Base.fptosi)(Int64, %1)\u001b[36m::Int64\u001b[39m\n",
      "\u001b[90m\u001b[59G│││╻   <\u001b[1G\u001b[39m\u001b[90m  \u001b[39m│   %7 = (Base.slt_int)(%6, x)\u001b[36m::Bool\u001b[39m\n",
      "\u001b[90m\u001b[59G│││╻   &\u001b[1G\u001b[39m\u001b[90m  \u001b[39m│   %8 = (Base.and_int)(%5, %7)\u001b[36m::Bool\u001b[39m\n",
      "\u001b[90m\u001b[59G│││╻   |\u001b[1G\u001b[39m\u001b[90m  \u001b[39m│   %9 = (Base.or_int)(%2, %8)\u001b[36m::Bool\u001b[39m\n",
      "\u001b[90m\u001b[59G│   \u001b[1G\u001b[39m\u001b[90m  \u001b[39m└──      goto #3 if not %9\n",
      "\u001b[90m\u001b[59G│   \u001b[1G\u001b[39m\u001b[90m  \u001b[39m2 ─      return x\n",
      "\u001b[90m\u001b[59G│   \u001b[1G\u001b[39m\u001b[90m  \u001b[39m3 ─      return Main.nothing\n"
     ]
    }
   ],
   "source": [
    "f(x) = x > 0.0 ? x : nothing\n",
    "@code_warntype f(1)"
   ]
  },
  {
   "cell_type": "markdown",
   "metadata": {},
   "source": [
    "This states that the compiler determines the return type when called with an integer (like `1`) could be one of two different types, `Body::Union{Nothing, Int64}`\n",
    "\n",
    "A final example is a variation on the above, which returns the maximum of `x` and `0`"
   ]
  },
  {
   "cell_type": "code",
   "execution_count": 46,
   "metadata": {},
   "outputs": [
    {
     "name": "stdout",
     "output_type": "stream",
     "text": [
      "Body\u001b[91m\u001b[1m::Union{Float64, Int64}\u001b[22m\u001b[39m\n",
      "\u001b[90m\u001b[59G│╻╷╷ >\u001b[1G\u001b[39m\u001b[90m1 \u001b[39m1 ─ %1 = (Base.sitofp)(Float64, x)\u001b[36m::Float64\u001b[39m\n",
      "\u001b[90m\u001b[59G││╻   <\u001b[1G\u001b[39m\u001b[90m  \u001b[39m│   %2 = (Base.lt_float)(0.0, %1)\u001b[36m::Bool\u001b[39m\n",
      "\u001b[90m\u001b[59G│││╻   ==\u001b[1G\u001b[39m\u001b[90m  \u001b[39m│   %3 = (Base.eq_float)(0.0, %1)\u001b[36m::Bool\u001b[39m\n",
      "\u001b[90m\u001b[59G│││╻   <\u001b[1G\u001b[39m\u001b[90m  \u001b[39m│   %4 = (Base.lt_float)(%1, 9.223372036854776e18)\u001b[36m::Bool\u001b[39m\n",
      "\u001b[90m\u001b[59G│││╻   &\u001b[1G\u001b[39m\u001b[90m  \u001b[39m│   %5 = (Base.and_int)(%3, %4)\u001b[36m::Bool\u001b[39m\n",
      "\u001b[90m\u001b[59G│││╻   unsafe_trunc\u001b[1G\u001b[39m\u001b[90m  \u001b[39m│   %6 = (Base.fptosi)(Int64, %1)\u001b[36m::Int64\u001b[39m\n",
      "\u001b[90m\u001b[59G│││╻   <\u001b[1G\u001b[39m\u001b[90m  \u001b[39m│   %7 = (Base.slt_int)(%6, x)\u001b[36m::Bool\u001b[39m\n",
      "\u001b[90m\u001b[59G│││╻   &\u001b[1G\u001b[39m\u001b[90m  \u001b[39m│   %8 = (Base.and_int)(%5, %7)\u001b[36m::Bool\u001b[39m\n",
      "\u001b[90m\u001b[59G│││╻   |\u001b[1G\u001b[39m\u001b[90m  \u001b[39m│   %9 = (Base.or_int)(%2, %8)\u001b[36m::Bool\u001b[39m\n",
      "\u001b[90m\u001b[59G│   \u001b[1G\u001b[39m\u001b[90m  \u001b[39m└──      goto #3 if not %9\n",
      "\u001b[90m\u001b[59G│   \u001b[1G\u001b[39m\u001b[90m  \u001b[39m2 ─      return x\n",
      "\u001b[90m\u001b[59G│   \u001b[1G\u001b[39m\u001b[90m  \u001b[39m3 ─      return 0.0\n"
     ]
    }
   ],
   "source": [
    "f(x) = x > 0.0 ? x : 0.0\n",
    "@code_warntype f(1)"
   ]
  },
  {
   "cell_type": "markdown",
   "metadata": {},
   "source": [
    "Which shows that, when called with an integer, the type could be that integer or the floating point `0.0`\n",
    "\n",
    "On the other hand, if we use change the function to return `0` if x <= 0, it is type-unstable with  floating point"
   ]
  },
  {
   "cell_type": "code",
   "execution_count": 47,
   "metadata": {},
   "outputs": [
    {
     "name": "stdout",
     "output_type": "stream",
     "text": [
      "Body\u001b[91m\u001b[1m::Union{Float64, Int64}\u001b[22m\u001b[39m\n",
      "\u001b[90m\u001b[73G│╻╷ >\u001b[1G\u001b[39m\u001b[90m1 \u001b[39m1 ─ %1 = (Base.lt_float)(0.0, x)\u001b[36m::Bool\u001b[39m\n",
      "\u001b[90m\u001b[73G│  \u001b[1G\u001b[39m\u001b[90m  \u001b[39m└──      goto #3 if not %1\n",
      "\u001b[90m\u001b[73G│  \u001b[1G\u001b[39m\u001b[90m  \u001b[39m2 ─      return x\n",
      "\u001b[90m\u001b[73G│  \u001b[1G\u001b[39m\u001b[90m  \u001b[39m3 ─      return 0\n"
     ]
    }
   ],
   "source": [
    "f(x) = x > 0.0 ? x : 0\n",
    "@code_warntype f(1.0)"
   ]
  },
  {
   "cell_type": "markdown",
   "metadata": {},
   "source": [
    "The solution is to use the `zero(x)` function which returns the additive identity element of type `x`\n",
    "n the other hand, if we use change the function to return `0` if x <= 0, it is type-unstable with  floating point"
   ]
  },
  {
   "cell_type": "code",
   "execution_count": 48,
   "metadata": {},
   "outputs": [
    {
     "name": "stdout",
     "output_type": "stream",
     "text": [
      "zero(2.3) = 0.0\n",
      "zero(4) = 0\n",
      "zero(2.0 + 3im) = 0.0 + 0.0im\n",
      "Body\u001b[36m::Float64\u001b[39m\n",
      "\u001b[90m\u001b[73G│╻╷ >\u001b[1G\u001b[39m\u001b[90m5 \u001b[39m1 ─ %1 = (Base.lt_float)(0.0, x)\u001b[36m::Bool\u001b[39m\n",
      "\u001b[90m\u001b[73G│  \u001b[1G\u001b[39m\u001b[90m  \u001b[39m└──      goto #3 if not %1\n",
      "\u001b[90m\u001b[73G│  \u001b[1G\u001b[39m\u001b[90m  \u001b[39m2 ─      return x\n",
      "\u001b[90m\u001b[73G│  \u001b[1G\u001b[39m\u001b[90m  \u001b[39m3 ─      return 0.0\n"
     ]
    }
   ],
   "source": [
    "@show zero(2.3)\n",
    "@show zero(4)\n",
    "@show zero(2.0 + 3im)\n",
    "\n",
    "f(x) = x > 0.0 ? x : zero(x)\n",
    "@code_warntype f(1.0)"
   ]
  }
 ],
 "metadata": {
  "filename": "generic_programming.rst",
  "kernelspec": {
   "display_name": "Julia 1.0.2",
   "language": "julia",
   "name": "julia-1.0"
  },
  "language_info": {
   "file_extension": ".jl",
   "mimetype": "application/julia",
   "name": "julia",
   "version": "1.0.2"
  },
  "title": "Generic Programming"
 },
 "nbformat": 4,
 "nbformat_minor": 2
}
