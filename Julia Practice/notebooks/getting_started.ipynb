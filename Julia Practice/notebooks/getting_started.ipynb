{
 "cells": [
  {
   "cell_type": "markdown",
   "metadata": {},
   "source": [
    "\n",
    "<a id='getting-started'></a>\n",
    "How to read this lecture…\n",
    "\n",
    "- If using QuantEcon lectures for the first time on a computer, execute ] add InstantiateFromURL inside of a notebook or the REPL  \n",
    "- For some notebooks, enable content with “Trust” on the command tab of Jupyter lab  \n",
    "- Code should execute sequentially if run in a Jupyter notebook  \n",
    "- Please direct feedback to [contact@quantecon.org](mailto:contact@quantecon.org\") or [discourse forum](http://discourse.quantecon.org/)  "
   ]
  },
  {
   "cell_type": "markdown",
   "metadata": {},
   "source": [
    "# Setting up Your Julia Environment"
   ]
  },
  {
   "cell_type": "markdown",
   "metadata": {},
   "source": [
    "## Contents\n",
    "\n",
    "- [Setting up Your Julia Environment](#Setting-up-Your-Julia-Environment)  \n",
    "  - [Overview](#Overview)  \n",
    "  - [Jupyter](#Jupyter)  \n",
    "  - [Installing a Pre-built Jupyter Image](#Installing-a-Pre-built-Jupyter-Image)  \n",
    "  - [Installing Julia and Dependencies Manually](#Installing-Julia-and-Dependencies-Manually)  \n",
    "  - [Using Jupyter](#Using-Jupyter)  "
   ]
  },
  {
   "cell_type": "markdown",
   "metadata": {},
   "source": [
    "## Overview\n",
    "\n",
    "In this lecture we will cover how to get up and running with Julia\n",
    "\n",
    "Topics:\n",
    "\n",
    "1. Jupyter  \n",
    "1. Choosing from different options  \n",
    "1. Installation of libraries, including the Julia code that underpins these lectures  "
   ]
  },
  {
   "cell_type": "markdown",
   "metadata": {},
   "source": [
    "## Jupyter\n",
    "\n",
    "Like Python, and unlike Matlab and Stata, there is a looser connection between Julia as a programming language and Julia as a development environment\n",
    "\n",
    "Because of this, you will have different options for editing code on your local computer or in the cloud\n",
    "\n",
    "Several of the options rely on [Jupyter](http://jupyter.org/)  which provides a browser-based interface to access computational kernels for different languages (e.g. Julia, Python, R, etc.)\n",
    "\n",
    "While you will eventually use other editors, there are some advantages of starting with Jupyter while learning the language\n",
    "\n",
    "- It requires no installation if you used a cloud-based solution  \n",
    "- Nicely formatted output in the browser, including tables, figures, animation, video, etc.  \n",
    "- The ability to mix in formatted text and mathematical expressions between cells  \n",
    "- Functions to generate PDF slides, static HTML, etc.  \n",
    "\n",
    "\n",
    "Whether you end up using Jupyter as your primary work environment or not, you’ll find learning about it an excellent investment"
   ]
  },
  {
   "cell_type": "markdown",
   "metadata": {},
   "source": [
    "### Recommended Options\n",
    "\n",
    "In order of priority, for those just getting started, we suggest\n",
    "\n",
    "1. Use [Jupyter on the cloud or department server](jl_jupyterhub) if it is available  \n",
    "1. Install the pre-built [docker-based Jupyter](jl_jupyterdocker) from QuantEcon  \n",
    "1. Install [Anaconda and Julia locally](jl_jupyterlocal) otherwise and manually install QuantEcon based packages  \n",
    "\n",
    "\n",
    "Eventually, you will both want to do a [local installation](jl_jupyterlocal) and move from just using jupyter to using other [tools and editors](tools_editors) such as [Atom/Juno](http://junolab.org/), but don’t let the environment get in the way of learning the language\n",
    "\n",
    "\n",
    "<a id='jl-jupyterhub'></a>"
   ]
  },
  {
   "cell_type": "markdown",
   "metadata": {},
   "source": [
    "### Using Jupyter Online\n",
    "\n",
    "If you have access to a cloud based solution for Jupyter, then that is typically the easiest solution\n",
    "\n",
    "* JuliaBox (currently having , once it's working.For example, many Canadian students have access to syzygy.ca* Ask at your university ..(e.g. `www.syzygy.ca <www.syzygy.ca>`_ and `juliabox.com <www.juliabox.com>`_ )- Students: ask your department if these resources are available  \n",
    "- Universities and workgroups: email [contact@quantecon.org](mailto:contact@quantecon.org\") for help on setting up a shared Jupyterhub instance with precompiled packages ready for these lecture notes  \n",
    "\n",
    "\n",
    "If you have are given an online Jupyter installation for a class, you may not need to do anything to begin using these notebooks\n",
    "\n",
    "Otherwise, if there are errors when you attempt to use an online Jupyterhub, you will need to go open a Jupyter notebook and type"
   ]
  },
  {
   "cell_type": "markdown",
   "metadata": {},
   "source": [
    "```none\n",
    "] add InstantiateFromURL\n",
    "```\n"
   ]
  },
  {
   "cell_type": "markdown",
   "metadata": {},
   "source": [
    "\n",
    "<a id='jl-jupyterdocker'></a>"
   ]
  },
  {
   "cell_type": "markdown",
   "metadata": {},
   "source": [
    "## Installing a Pre-built Jupyter Image\n",
    "\n",
    "[Docker](https://www.docker.com/) is a technology that you use to host a “[virtual](https://en.wikipedia.org/wiki/Operating-system-level_virtualization) ” version of a minimal, self-contained operating system on another computer\n",
    "\n",
    "While it is largely used for running code in the cloud and in distributed computing, it is also convenient for using on local computers\n",
    "\n",
    "In essence, it allows people to share a consistent and reproducible environment with no setup or tinkering required\n",
    "\n",
    "QuantEcon has constructed a pre-built [docker image](https://hub.docker.com/u/quantecon/)"
   ]
  },
  {
   "cell_type": "markdown",
   "metadata": {},
   "source": [
    "### Setup\n",
    "\n",
    "- Create an account for [Docker Hub](https://hub.docker.com/) and create a docker id  \n",
    "\n",
    "\n",
    "Download and install\n",
    "\n",
    "- [Mac](https://store.docker.com/editions/community/docker-ce-desktop-mac)  \n",
    "- [Windows](https://store.docker.com/editions/community/docker-ce-desktop-windows). **Do not** choose to use Windows containers  \n",
    "\n",
    "\n",
    "Open a terminal on OS/X and Linux, or a “Windows PowerShell” terminal on Windows\n",
    "\n",
    "To verify that there are no obvious errors in the installation, runRun ``docker version`` in the terminal to check there are no obvious errorsDownload the QuantEcon Docker image by running the following in your terminal (this may take some time depending on your internet connection)"
   ]
  },
  {
   "cell_type": "markdown",
   "metadata": {},
   "source": [
    "```none\n",
    "docker pull quantecon/base\n",
    "```\n"
   ]
  },
  {
   "cell_type": "markdown",
   "metadata": {},
   "source": [
    "After this is finished, first clear any existing volumes and then create a persistent storage volume (ignoring any warnings from the rm step)"
   ]
  },
  {
   "cell_type": "markdown",
   "metadata": {},
   "source": [
    "```none\n",
    "docker volume rm quantecon\n",
    "docker volume create quantecon\n",
    "```\n"
   ]
  },
  {
   "cell_type": "markdown",
   "metadata": {},
   "source": [
    "### Running in a Local Folder\n",
    "\n",
    "The Docker image can exchange files locally (and recursively below in the tree) to where it is run\n",
    "\n",
    "Open a terminal and cd to the directory you are interested in storing local files\n",
    "\n",
    "To run an image local to those files, type the following in the terminal (on Linux and OSX)"
   ]
  },
  {
   "cell_type": "markdown",
   "metadata": {},
   "source": [
    "```none\n",
    "docker run --rm -p 8888:8888 -v quantecon:/home/jovyan/.julia -v \"$(pwd)\":/home/jovyan/local quantecon/base\n",
    "```\n"
   ]
  },
  {
   "cell_type": "markdown",
   "metadata": {},
   "source": [
    "And on Powershell on Window"
   ]
  },
  {
   "cell_type": "markdown",
   "metadata": {},
   "source": [
    "```none\n",
    "docker run --rm -p 8888:8888 -v quantecon:/home/jovyan/.julia -v ${PWD}:/home/jovyan/local quantecon/base\n",
    "```\n"
   ]
  },
  {
   "cell_type": "markdown",
   "metadata": {},
   "source": [
    "**Remark:** When you call this command, Docker may require you to give it permissions to access the drive and the network.  If you do not see the output within 20 or so seconds, then look for confirmation windows which may be hidden behind the terminal/etc.\n",
    "\n",
    "In the output, you should see some text near that bottom that looks like"
   ]
  },
  {
   "cell_type": "markdown",
   "metadata": {},
   "source": [
    "```none\n",
    "127.0.0.1):8888/?token=7c8f37bf32b1d7f0b633596204ee7361c1213926a6f0a44b\n",
    "```\n"
   ]
  },
  {
   "cell_type": "markdown",
   "metadata": {},
   "source": [
    "Copy the text after ?token= (e.g. 7c8f37bf32b1d7f0b633596204ee7361c1213926a6f0a44b)\n",
    "\n",
    "In a browser, go to a URL like the following"
   ]
  },
  {
   "cell_type": "markdown",
   "metadata": {},
   "source": [
    "```none\n",
    "http://127.0.0.1:8888/lab\n",
    "```\n"
   ]
  },
  {
   "cell_type": "markdown",
   "metadata": {},
   "source": [
    "**Note**: Ctrl+C is also the keyboard shortcut you use to kill the container. So be sure to copy using the mouse.\n",
    "\n",
    "Paste the text into Password or token: and choose Log in\n",
    "\n",
    "Ensure you save any important files to the local notebooks in the local directory, which stores in the local filesystem where you ran the docker command\n",
    "\n",
    "A few useful maintenance features\n",
    "\n",
    "- If you forget your token number, you may need to stop and restart the container  \n",
    "- To stop the container, use Ctrl-C or type docker stop $(docker ps -aq) in a different terminal  \n",
    "- To reset your Docker volume completely, redo the docker volume rm quantecon and docker volume create quantecon steps  \n",
    "- To clean unnecessary Docker assets from your system, run docker system prune  \n",
    "\n",
    "\n",
    "\n",
    "<a id='jl-jupyterlocal'></a>"
   ]
  },
  {
   "cell_type": "markdown",
   "metadata": {},
   "source": [
    "## Installing Julia and Dependencies Manually\n",
    "\n",
    "While using the Docker instance is convenient and error-proof, you may eventually want to install things locally\n",
    "\n",
    "The easiest way to do that is to install Anaconda for a full Python and Jupyter environment,\n",
    "\n",
    "Install Anaconda by: [downloading the binary](https://www.anaconda.com/download/) (3.7 version) and install\n",
    "\n",
    "- Make sure you click yes to “add Anaconda to my PATH.” If you’d rather do that later, see: [Anaconda for Windows](http://docs.anaconda.com/anaconda/install/windows/) and [Mac/Linux](https://conda.io/docs/user-guide/install/macos.html).  \n",
    "\n",
    "\n",
    "This could be in a separate section* Note that the packages in Anaconda update regularly --- you can keep up to date by typing ``conda update anaconda`` in a terminalDownload and install Julia, from [download page](http://julialang.org/downloads/) , accepting all default options.\n",
    "\n",
    "Assuming there were no problems, you should now be able to start Julia either by\n",
    "\n",
    "- Navigating to Julia through your menus or desktop icons (Windows, OSX), or  \n",
    "- Opening a terminal and typing julia (Linux, + OSX/git bash if you configure it)  \n",
    "\n",
    "\n",
    "Either way you should now be looking at something like this (modulo your operating system — this is a Linux machine)\n",
    "\n",
    "<img src=\"_static/figures/julia_term_1.png\" style=\"width:75%;height:75%\">\n",
    "\n",
    "  \n",
    "In that julia terminal, type the following"
   ]
  },
  {
   "cell_type": "code",
   "execution_count": 1,
   "metadata": {},
   "outputs": [
    {
     "name": "stdout",
     "output_type": "stream",
     "text": [
      "\u001b[32m\u001b[1m  Updating\u001b[22m\u001b[39m registry at `~/.julia/registries/General`\n",
      "\u001b[32m\u001b[1m  Updating\u001b[22m\u001b[39m git-repo `https://github.com/JuliaRegistries/General.git`\n",
      "\u001b[?25l\u001b[2K\u001b[?25h\u001b[32m\u001b[1m Resolving\u001b[22m\u001b[39m package versions...\n",
      "\u001b[32m\u001b[1m Installed\u001b[22m\u001b[39m Tables ───────── v0.1.11\n",
      "\u001b[32m\u001b[1m Installed\u001b[22m\u001b[39m NLsolve ──────── v3.0.1\n",
      "\u001b[32m\u001b[1m Installed\u001b[22m\u001b[39m DiffEqJump ───── v5.6.0\n",
      "\u001b[32m\u001b[1m Installed\u001b[22m\u001b[39m Optim ────────── v0.17.2\n",
      "\u001b[32m\u001b[1m Installed\u001b[22m\u001b[39m OrdinaryDiffEq ─ v4.17.2\n",
      "\u001b[32m\u001b[1m  Updating\u001b[22m\u001b[39m `~/.julia/environments/v1.0/Project.toml`\n",
      " \u001b[90m [2774e3e8]\u001b[39m\u001b[93m ↑ NLsolve v2.1.0 ⇒ v3.0.1\u001b[39m\n",
      " \u001b[90m [429524aa]\u001b[39m\u001b[93m ↑ Optim v0.17.1 ⇒ v0.17.2\u001b[39m\n",
      "\u001b[32m\u001b[1m  Updating\u001b[22m\u001b[39m `~/.julia/environments/v1.0/Manifest.toml`\n",
      " \u001b[90m [c894b116]\u001b[39m\u001b[93m ↑ DiffEqJump v5.5.0 ⇒ v5.6.0\u001b[39m\n",
      " \u001b[90m [d3d80556]\u001b[39m\u001b[93m ↑ LineSearches v7.0.0 ⇒ v7.0.1\u001b[39m\n",
      " \u001b[90m [2774e3e8]\u001b[39m\u001b[93m ↑ NLsolve v2.1.0 ⇒ v3.0.1\u001b[39m\n",
      " \u001b[90m [429524aa]\u001b[39m\u001b[93m ↑ Optim v0.17.1 ⇒ v0.17.2\u001b[39m\n",
      " \u001b[90m [1dea7af3]\u001b[39m\u001b[93m ↑ OrdinaryDiffEq v4.17.0 ⇒ v4.17.2\u001b[39m\n",
      " \u001b[90m [bd369af6]\u001b[39m\u001b[93m ↑ Tables v0.1.10 ⇒ v0.1.11\u001b[39m\n"
     ]
    }
   ],
   "source": [
    "] add IJulia InstantiateFromURL Revise"
   ]
  },
  {
   "cell_type": "markdown",
   "metadata": {},
   "source": [
    "Then, install and precompile all of the key packages for these lecture notes (which may take 10-20 minutes),"
   ]
  },
  {
   "cell_type": "code",
   "execution_count": 2,
   "metadata": {},
   "outputs": [],
   "source": [
    "using InstantiateFromURL\n",
    "activate_github(\"QuantEcon/QuantEconLecturePackages\", tag = \"v0.9.0\") # activate the QuantEcon environment\n",
    "\n",
    "using LinearAlgebra, Statistics, Compat # load common packages"
   ]
  },
  {
   "cell_type": "markdown",
   "metadata": {},
   "source": [
    "To run Jupyter, in a terminal cd to the location you wish to modify local files in and type"
   ]
  },
  {
   "cell_type": "markdown",
   "metadata": {},
   "source": [
    "```none\n",
    "jupyter lab\n",
    "```\n"
   ]
  },
  {
   "cell_type": "markdown",
   "metadata": {},
   "source": [
    "For convenience, you may find it useful on your operating system to change the directory where the REPL starts\n",
    "\n",
    "- On Windows, if you have a shortcut on your desktop or on the taskbar, you should: (1) right-click on the icon; (2) right click on the “julia” text; (3) choose “Properties”, and (4) change the “Start In” to be something such as C:\\Users\\YOURUSERNAME\\Documents  \n",
    "\n",
    "\n",
    "\n",
    "<a id='jl-startup-file'></a>"
   ]
  },
  {
   "cell_type": "markdown",
   "metadata": {},
   "source": [
    "### Creating a Startup File (Advanced)\n",
    "\n",
    "Whenever the Julia compiler or REPL starts, it will look for a file called startup.jl (see [Julia Manual](https://docs.julialang.org/en/v1/manual/getting-started/#man-getting-started-1))\n",
    "\n",
    "The location for the file is relative to your default Julia environment (e.g. ~/.julia/config/startup.jl or C:\\Users\\USERNAME\\.julia\\config\\startup.jl on Windows)\n",
    "\n",
    "To add one, first create the ~/.julia/config/ directory if necessary in the terminal or file explorer  (to find the ~/.julia location in the REPL, you can look at the output of ] st)\n",
    "\n",
    "Next, either download the file [startup.jl](/_static/includes/startup.jl) into that directory, or create a file and paste in the following text"
   ]
  },
  {
   "cell_type": "markdown",
   "metadata": {},
   "source": [
    "```julia\n",
    "import REPL\n",
    "Base.atreplinit() do repl\n",
    "    # make the ; shell mode sticky\n",
    "    !isdefined(repl, :interface) && (repl.interface = REPL.setup_interface(repl))\n",
    "    repl.interface.modes[2].sticky=true\n",
    "end\n",
    "\n",
    "try\n",
    "    @eval using Revise\n",
    "    # Turn on Revise's automatic-evaluation behavior\n",
    "    Revise.async_steal_repl_backend()\n",
    "catch err\n",
    "    @warn \"Could not load Revise.\"\n",
    "end\n",
    "```\n"
   ]
  },
  {
   "cell_type": "markdown",
   "metadata": {},
   "source": [
    "\n",
    "<a id='jl-jupyter'></a>"
   ]
  },
  {
   "cell_type": "markdown",
   "metadata": {},
   "source": [
    "## Using Jupyter\n",
    "\n",
    "\n",
    "<a id='ipython-notebook'></a>"
   ]
  },
  {
   "cell_type": "markdown",
   "metadata": {},
   "source": [
    "### Getting Started\n",
    "\n",
    "After you have started Jupyter (either on the cloud, the docker, or locally installed on your computer)\n",
    "\n",
    "You should see something (not exactly) like this\n",
    "\n",
    "<img src=\"_static/figures/starting_nb_julia.png\" style=\"width:70%;height:70%\">\n",
    "\n",
    "  \n",
    "The page you are looking at is called the “dashboard”\n",
    "\n",
    "The address localhost:8888/tree you see in the image indicates that the browser is communicating with a Julia session via port 8888 of the local machine\n",
    "\n",
    "If you click on “New” you should have the option to start a Julia notebook\n",
    "\n",
    "<img src=\"_static/figures/starting_nb_julia_options.png\" style=\"width:70%;height:70%\">\n",
    "\n",
    "  \n",
    "Here’s what your Julia notebook should look like\n",
    "\n",
    "<img src=\"_static/figures/nb2_julia.png\" style=\"width:70%;height:70%\">\n",
    "\n",
    "  \n",
    "The notebook displays an *active cell*, into which you can type Julia commands"
   ]
  },
  {
   "cell_type": "markdown",
   "metadata": {},
   "source": [
    "### Notebook Basics\n",
    "\n",
    "Notice that in the previous figure the cell is surrounded by a green border\n",
    "\n",
    "This means that the cell is in *edit mode*\n",
    "\n",
    "As a result, you can type in Julia code and it will appear in the cell\n",
    "\n",
    "When you’re ready to execute these commands, hit Shift-Enter instead of the usual Enter\n",
    "\n",
    "<img src=\"_static/figures/nb3_julia.png\" style=\"width:70%;height:70%\">"
   ]
  },
  {
   "cell_type": "markdown",
   "metadata": {},
   "source": [
    "#### Modal Editing\n",
    "\n",
    "The next thing to understand about the Jupyter notebook is that it uses a *modal* editing system\n",
    "\n",
    "This means that the effect of typing at the keyboard **depends on which mode you are in**\n",
    "\n",
    "The two modes are\n",
    "\n",
    "1. Edit mode  \n",
    "   \n",
    "       Indicated by a green border around one cell, as in the pictures above\n",
    "   \n",
    "   Whatever you type appears as is in that cell-   \n",
    "   -   \n",
    "1. Command mode  \n",
    "   \n",
    "       The green border is replaced by a blue border\n",
    "   \n",
    "   Key strokes are interpreted as commands — for example, typing b adds a new cell below  the current one-   \n",
    "   -   \n",
    "\n",
    "\n",
    "(To learn about other commands available in command mode, go to “Keyboard Shortcuts” in the “Help” menu)"
   ]
  },
  {
   "cell_type": "markdown",
   "metadata": {},
   "source": [
    "#### Switching modes\n",
    "\n",
    "- To switch to command mode from edit mode, hit the Esc key  \n",
    "- To switch to edit mode from command mode, hit Enter or click in a cell  \n",
    "\n",
    "\n",
    "The modal behavior of the Jupyter notebook is a little tricky at first but very efficient when you get used to it"
   ]
  },
  {
   "cell_type": "markdown",
   "metadata": {},
   "source": [
    "#### Working with Files\n",
    "\n",
    "To run an existing Julia file using the notebook you can copy and paste the contents into a cell in the notebook\n",
    "\n",
    "If it’s a long file, however, you have the alternative of\n",
    "\n",
    "1. Saving the file in your **present working directory**  \n",
    "1. Executing include(\"filename\") in a cell  \n",
    "\n",
    "\n",
    "The present working directory can be found by executing the command pwd()"
   ]
  },
  {
   "cell_type": "markdown",
   "metadata": {},
   "source": [
    "#### Plots\n",
    "\n",
    "Let’s generate some plots\n",
    "\n",
    "First, ensure that you have activated a set of packages with"
   ]
  },
  {
   "cell_type": "code",
   "execution_count": 3,
   "metadata": {},
   "outputs": [],
   "source": [
    "using InstantiateFromURL\n",
    "activate_github(\"QuantEcon/QuantEconLecturePackages\", tag = \"v0.9.0\") # activate the QuantEcon environment\n",
    "\n",
    "using LinearAlgebra, Statistics, Compat # load common packages"
   ]
  },
  {
   "cell_type": "markdown",
   "metadata": {},
   "source": [
    "Now try copying the following into a notebook cell and hit Shift-Enter"
   ]
  },
  {
   "cell_type": "code",
   "execution_count": 4,
   "metadata": {},
   "outputs": [
    {
     "data": {
      "image/png": "[encoded data removed]"
     },
     "execution_count": 4,
     "metadata": {},
     "output_type": "execute_result"
    }
   ],
   "source": [
    "using Plots\n",
    "gr(fmt=:png)\n",
    "plot(sin, -2pi, pi, label=\"sine function\")"
   ]
  },
  {
   "cell_type": "markdown",
   "metadata": {},
   "source": [
    "You’ll see something like this (although the style of plot depends on your\n",
    "installation — more on this later)\n",
    "\n",
    "<img src=\"_static/figures/nb4_julia.png\" style=\"width:70%;height:70%\">"
   ]
  },
  {
   "cell_type": "markdown",
   "metadata": {},
   "source": [
    "### Working with the Notebook\n",
    "\n",
    "Let’s go over some more Jupyter notebook features — enough so that we can press ahead with programming"
   ]
  },
  {
   "cell_type": "markdown",
   "metadata": {},
   "source": [
    "#### Tab Completion\n",
    "\n",
    "A simple but useful feature of IJulia is tab completion\n",
    "\n",
    "For example if you type rep and hit the tab key you’ll get a list of all\n",
    "commands that start with rep\n",
    "\n",
    "<img src=\"_static/figures/nb5_julia.png\" style=\"width:70%;height:70%\">\n",
    "\n",
    "  \n",
    "IJulia offers up the possible completions\n",
    "\n",
    "This helps remind you of what’s available and saves a bit of typing\n",
    "\n",
    "\n",
    "<a id='gs-help'></a>"
   ]
  },
  {
   "cell_type": "markdown",
   "metadata": {},
   "source": [
    "#### Online Help\n",
    "\n",
    "To get help on the Julia function such as repmat, enter ?repmat\n",
    "\n",
    "Documentation should now appear in the browser"
   ]
  },
  {
   "cell_type": "markdown",
   "metadata": {},
   "source": [
    "#### Other Content\n",
    "\n",
    "In addition to executing code, the Jupyter notebook allows you to embed text, equations, figures and even videos in the page\n",
    "\n",
    "For example, here we enter a mixture of plain text and LaTeX instead of code\n",
    "\n",
    "<img src=\"_static/figures/nb6_julia.png\" style=\"width:70%;height:70%\">\n",
    "\n",
    "  \n",
    "Next we Esc to enter command mode and then type m to indicate that we\n",
    "are writing [Markdown](http://daringfireball.net/projects/markdown/), a mark-up language similar to (but simpler than) LaTeX\n",
    "\n",
    "(You can also use your mouse to select Markdown from the Code drop-down box just below the list of menu items)\n",
    "\n",
    "Now we Shift + Enter to produce this\n",
    "\n",
    "<img src=\"_static/figures/nb7_julia.png\" style=\"width:70%;height:70%\">"
   ]
  },
  {
   "cell_type": "markdown",
   "metadata": {},
   "source": [
    "#### Inserting unicode (e.g. Greek letters)\n",
    "\n",
    "Julia supports the use of [unicode characters](https://docs.julialang.org/en/v1/manual/unicode-input/)\n",
    "such as α and β in your code\n",
    "\n",
    "Unicode characters can be typed quickly in Jupyter using the tab key\n",
    "\n",
    "Try creating a new code cell and typing \\alpha, then hitting the tab key on your keyboard"
   ]
  },
  {
   "cell_type": "markdown",
   "metadata": {},
   "source": [
    "#### Shell Commands\n",
    "\n",
    "You can execute shell commands (system commands) in IJulia by prepending a semicolon\n",
    "\n",
    "For example, ;ls will execute the UNIX style shell command ls, which — at least for UNIX style operating systems — lists the contents of the current working directory\n",
    "\n",
    "These shell commands are handled by your default system shell and hence are platform specific"
   ]
  },
  {
   "cell_type": "markdown",
   "metadata": {},
   "source": [
    "#### Package Manager\n",
    "\n",
    "You can enter the package manager by prepending a ]\n",
    "\n",
    "For example, ] st will give the the current status of installed pacakges in the current environment"
   ]
  },
  {
   "cell_type": "markdown",
   "metadata": {},
   "source": [
    "### Sharing Notebooks\n",
    "\n",
    "Notebook files are just text files structured in [JSON](https://en.wikipedia.org/wiki/JSON) and typically end with .ipynb\n",
    "\n",
    "A notebook can easily be saved and shared between users — you just need to\n",
    "pass around the ipynb file\n",
    "\n",
    "To open an existing ipynb file, import it from the dashboard (the first browser page that opens when you start Jupyter notebook) and run the cells or edit as discussed above\n",
    "\n",
    "The Jupyter organization has a site for sharing notebooks called [nbviewer](http://nbviewer.jupyter.org/) which provides a static HTML representations of notebooks\n",
    "\n",
    "However, each notebook can be downloaded as an ipynb file by clicking on the download icon at the top right of its page"
   ]
  },
  {
   "cell_type": "markdown",
   "metadata": {},
   "source": [
    "### The REPL\n",
    "\n",
    "While we have not emphasized it, on any JupyterHub or locally installed Jupyter installation you will also have access to the Julia REPL\n",
    "\n",
    "This is a Julia specific terminal disconnected from the graphical interface of Jupyter, and becomes increasingly important as you learn Julia\n",
    "\n",
    "To start the REPL on a typical jupyterlab environment\n",
    "\n",
    "1. Choose “New Launcher”  \n",
    "1. Choose a Julia 1.0 Console  \n",
    "\n",
    "\n",
    "Otherwise, if you  have a local installation, then\n",
    "\n",
    "- Navigating to Julia through your menus or desktop icons (Windows, OSX), or  \n",
    "- Opening a terminal and typing julia (Linux)  \n",
    "\n",
    "\n",
    "The REPL is one of the best places to add and remove packages, so a good test is to see the current status of the package manager"
   ]
  },
  {
   "cell_type": "code",
   "execution_count": 5,
   "metadata": {},
   "outputs": [
    {
     "name": "stdout",
     "output_type": "stream",
     "text": [
      "\u001b[36m\u001b[1mProject \u001b[22m\u001b[39mQuantEconLecturePackages v0.1.0\n",
      "\u001b[32m\u001b[1m    Status\u001b[22m\u001b[39m `~/Research/lecture-source-jl/notebooks/.projects/QuantEconLecturePackages-v0.9.0/Project.toml`\n",
      " \u001b[90m [aae01518]\u001b[39m\u001b[37m BandedMatrices v0.7.1\u001b[39m\n",
      " \u001b[90m [6e4b80f9]\u001b[39m\u001b[37m BenchmarkTools v0.4.1\u001b[39m\n",
      " \u001b[90m [3da002f7]\u001b[39m\u001b[37m ColorTypes v0.7.5\u001b[39m\n",
      " \u001b[90m [34da2185]\u001b[39m\u001b[37m Compat v1.3.0\u001b[39m\n",
      " \u001b[90m [a93c6f00]\u001b[39m\u001b[37m DataFrames v0.14.1\u001b[39m\n",
      " \u001b[90m [1313f7d8]\u001b[39m\u001b[37m DataFramesMeta v0.4.0\u001b[39m\n",
      " \u001b[90m [31c24e10]\u001b[39m\u001b[37m Distributions v0.16.4\u001b[39m\n",
      " \u001b[90m [2fe49d83]\u001b[39m\u001b[37m Expectations v1.0.2\u001b[39m\n",
      " \u001b[90m [1a297f60]\u001b[39m\u001b[37m FillArrays v0.3.0\u001b[39m\n",
      " \u001b[90m [f6369f11]\u001b[39m\u001b[37m ForwardDiff v0.10.1\u001b[39m\n",
      " \u001b[90m [28b8d3ca]\u001b[39m\u001b[37m GR v0.35.0\u001b[39m\n",
      " \u001b[90m [7073ff75]\u001b[39m\u001b[37m IJulia v1.13.0\u001b[39m\n",
      " \u001b[90m [a98d9a8b]\u001b[39m\u001b[37m Interpolations v0.10.5\u001b[39m\n",
      " \u001b[90m [5ab0869b]\u001b[39m\u001b[37m KernelDensity v0.5.1\u001b[39m\n",
      " \u001b[90m [b964fa9f]\u001b[39m\u001b[37m LaTeXStrings v1.0.3\u001b[39m\n",
      " \u001b[90m [5078a376]\u001b[39m\u001b[37m LazyArrays v0.3.2\u001b[39m\n",
      " \u001b[90m [76087f3c]\u001b[39m\u001b[37m NLopt v0.5.1\u001b[39m\n",
      " \u001b[90m [2774e3e8]\u001b[39m\u001b[37m NLsolve v3.0.0\u001b[39m\n",
      " \u001b[90m [429524aa]\u001b[39m\u001b[37m Optim v0.17.1\u001b[39m\n",
      " \u001b[90m [d96e819e]\u001b[39m\u001b[37m Parameters v0.10.1\u001b[39m\n",
      " \u001b[90m [91a5bcdd]\u001b[39m\u001b[37m Plots v0.21.0\u001b[39m\n",
      " \u001b[90m [f27b6e38]\u001b[39m\u001b[37m Polynomials v0.5.1\u001b[39m\n",
      " \u001b[90m [1fd47b50]\u001b[39m\u001b[37m QuadGK v2.0.2\u001b[39m\n",
      " \u001b[90m [fcd29c91]\u001b[39m\u001b[37m QuantEcon v0.15.0\u001b[39m\n",
      " \u001b[90m [295af30f]\u001b[39m\u001b[37m Revise v0.7.12\u001b[39m\n",
      " \u001b[90m [f2b01f46]\u001b[39m\u001b[37m Roots v0.7.3\u001b[39m\n",
      " \u001b[90m [60ddc479]\u001b[39m\u001b[37m StatPlots v0.8.1\u001b[39m\n",
      " \u001b[90m [90137ffa]\u001b[39m\u001b[37m StaticArrays v0.9.2\u001b[39m\n",
      " \u001b[90m [37e2e46d]\u001b[39m\u001b[37m LinearAlgebra \u001b[39m\n",
      " \u001b[90m [9a3f8284]\u001b[39m\u001b[37m Random \u001b[39m\n",
      " \u001b[90m [2f01184e]\u001b[39m\u001b[37m SparseArrays \u001b[39m\n",
      " \u001b[90m [10745b16]\u001b[39m\u001b[37m Statistics \u001b[39m\n",
      " \u001b[90m [8dfed614]\u001b[39m\u001b[37m Test \u001b[39m\n"
     ]
    }
   ],
   "source": [
    "] st"
   ]
  }
 ],
 "metadata": {
  "kernelspec": {
   "display_name": "Julia 1.0",
   "language": "julia",
   "name": "julia-1.0"
  }
 },
 "nbformat": 4,
 "nbformat_minor": 2
}
