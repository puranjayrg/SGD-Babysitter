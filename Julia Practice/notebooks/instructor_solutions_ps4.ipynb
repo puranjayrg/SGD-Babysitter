{
 "cells": [
  {
   "cell_type": "code",
   "execution_count": 1,
   "metadata": {},
   "outputs": [
    {
     "name": "stderr",
     "output_type": "stream",
     "text": [
      "┌ Warning: On Windows, creating file symlinks requires Administrator privileges\n",
      "└ @ Base.Filesystem file.jl:789\n"
     ]
    }
   ],
   "source": [
    "using InstantiateFromURL\n",
    "activate_github(\"QuantEcon/QuantEconLecturePackages\", tag=\"v0.3.1\");\n",
    "using LinearAlgebra, Statistics, Compat"
   ]
  },
  {
   "cell_type": "markdown",
   "metadata": {},
   "source": [
    "Question 7: simulates\n",
    "$$\n",
    "x_{t+1} = \\, \\alpha \\, x_t + \\sigma\\, \\epsilon_{t+1} \\tag{1}\n",
    "\\quad \\text{where} \\quad\n",
    "x_0 = 1\n",
    "\\quad \\text{and} \\quad t = 0,\\ldots,t_{\\max}\n",
    "$$"
   ]
  },
  {
   "cell_type": "code",
   "execution_count": 2,
   "metadata": {},
   "outputs": [
    {
     "data": {
      "image/png": "[encoded data removed]"
     },
     "execution_count": 2,
     "metadata": {},
     "output_type": "execute_result"
    }
   ],
   "source": [
    "using Parameters\n",
    "using Plots\n",
    "gr(fmt=:png)\n",
    "\n",
    "# simulate directly\n",
    "function simulatepassage(params)\n",
    "    @unpack α, σ, t_max, x₀, a = params\n",
    "    \n",
    "    x = x₀ # start at the initial condition\n",
    "    for t in 0:t_max-1\n",
    "        x = α * x + σ * randn() # (1)\n",
    "        if x < a\n",
    "            return t+1           \n",
    "        end        \n",
    "    end\n",
    "    return t_max #if it got here, we left the loop\n",
    "end\n",
    "\n",
    "simulatemanypassages(params, N) = [simulatepassage(params) for _ in 1:N]\n",
    "\n",
    "# setup parameters\n",
    "paramgen = @with_kw (x₀=1.0, α=1.0, σ=0.2, a=0.0, t_max=200)\n",
    "\n",
    "# could draw a large number of them\n",
    "N = 100\n",
    "bins = 20\n",
    "p = paramgen() # stick with defaults\n",
    "\n",
    "histogram(simulatemanypassages(p, N), bins=bins)"
   ]
  },
  {
   "cell_type": "code",
   "execution_count": 3,
   "metadata": {},
   "outputs": [
    {
     "data": {
      "image/png": "[encoded data removed]"
     },
     "execution_count": 3,
     "metadata": {},
     "output_type": "execute_result"
    }
   ],
   "source": [
    "meanpassage(p, N) = mean(simulatemanypassages(p, N))\n",
    "\n",
    "# if we just want to modify the α\n",
    "meanpassage(α; N = 100) = mean(simulatemanypassages(paramgen(α=α), N))\n",
    "\n",
    "numα = 50\n",
    "α = range(0.5, 1.2, length = numα)\n",
    "N = 500\n",
    "\n",
    "# broadcast\n",
    "plot(α, meanpassage.(α))"
   ]
  },
  {
   "cell_type": "code",
   "execution_count": 4,
   "metadata": {},
   "outputs": [
    {
     "data": {
      "text/plain": [
       "(mean = 94.958, std = 77.80171812590865, min = 3, max = 200)"
      ]
     },
     "execution_count": 4,
     "metadata": {},
     "output_type": "execute_result"
    }
   ],
   "source": [
    "# could also calculate other statistics\n",
    "function passagestatistics(p; N=100)\n",
    "    passages = simulatemanypassages(p, N)\n",
    "    (mean = mean(passages), std = std(passages), min = minimum(passages), max = maximum(passages))\n",
    "end\n",
    "passagestatistics(paramgen(), N=1000)"
   ]
  },
  {
   "cell_type": "markdown",
   "metadata": {},
   "source": [
    "Question 8a"
   ]
  },
  {
   "cell_type": "code",
   "execution_count": 5,
   "metadata": {},
   "outputs": [
    {
     "data": {
      "text/plain": [
       "newtonroot (generic function with 2 methods)"
      ]
     },
     "execution_count": 5,
     "metadata": {},
     "output_type": "execute_result"
    }
   ],
   "source": [
    "using ForwardDiff\n",
    "\n",
    "function newtonroot(f, f′; x₀, tolerance = 1E-7, maxiter = 1000)\n",
    "    # setup the algorithm\n",
    "    x_old = x₀\n",
    "    normdiff = Inf\n",
    "    iter = 1\n",
    "    while normdiff > tolerance && iter <= maxiter\n",
    "        x_new = x_old - f(x_old)/f′(x_old) # use the passed in map\n",
    "        normdiff = norm(x_new - x_old)\n",
    "        x_old = x_new\n",
    "        iter = iter + 1\n",
    "    end\n",
    "    return (root = x_old, normdiff = normdiff, iter = iter) # A named tuple\n",
    "end\n",
    "\n",
    "# for auto-differentiation, can just forward to the existing one\n",
    "D(f) = x -> ForwardDiff.derivative(f, x)\n",
    "\n",
    "# same name! different parameters\n",
    "newtonroot(f; x₀, tolerance = 1E-7, maxiter = 1000) = newtonroot(f, D(f), x₀=x₀, tolerance = tolerance, maxiter = maxiter)"
   ]
  },
  {
   "cell_type": "code",
   "execution_count": 6,
   "metadata": {},
   "outputs": [
    {
     "name": "stdout",
     "output_type": "stream",
     "text": [
      "newtonroot(f, f′, x₀=x₀) = (root = 0.9999998168636032, normdiff = 9.156819846811715e-8, iter = 39)\n",
      "newtonroot(f, x₀=x₀) = (root = 0.9999998168636032, normdiff = 9.156819846811715e-8, iter = 39)\n"
     ]
    },
    {
     "data": {
      "text/plain": [
       "(root = 0.9999998168636032, normdiff = 9.156819846811715e-8, iter = 39)"
      ]
     },
     "execution_count": 6,
     "metadata": {},
     "output_type": "execute_result"
    }
   ],
   "source": [
    "f(x) = (x-1.0)^3\n",
    "f′(x) = 3.0*(x-1.0)^2\n",
    "x₀ = 0.1\n",
    "@show newtonroot(f, f′, x₀ = x₀)\n",
    "@show newtonroot(f, x₀ = x₀)"
   ]
  },
  {
   "cell_type": "markdown",
   "metadata": {},
   "source": [
    "Can benchmark with @btime"
   ]
  },
  {
   "cell_type": "code",
   "execution_count": 7,
   "metadata": {},
   "outputs": [
    {
     "name": "stdout",
     "output_type": "stream",
     "text": [
      "  1.110 μs (4 allocations: 80 bytes)\n",
      "  1.230 μs (7 allocations: 144 bytes)\n"
     ]
    },
    {
     "data": {
      "text/plain": [
       "(root = 0.9999998168636032, normdiff = 9.156819846811715e-8, iter = 39)"
      ]
     },
     "execution_count": 7,
     "metadata": {},
     "output_type": "execute_result"
    }
   ],
   "source": [
    "using BenchmarkTools\n",
    "@btime newtonroot(f, f′, x₀ = x₀)\n",
    "@btime newtonroot(f, x₀ = x₀)"
   ]
  }
 ],
 "metadata": {
  "kernelspec": {
   "display_name": "Julia 1.0.1",
   "language": "julia",
   "name": "julia-1.0"
  },
  "language_info": {
   "file_extension": ".jl",
   "mimetype": "application/julia",
   "name": "julia",
   "version": "1.0.1"
  }
 },
 "nbformat": 4,
 "nbformat_minor": 2
}
